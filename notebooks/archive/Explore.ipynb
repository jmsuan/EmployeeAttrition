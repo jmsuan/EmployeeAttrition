{
 "cells": [
  {
   "cell_type": "code",
   "execution_count": 1,
   "id": "a3a7858c-8c10-4cfe-84b3-957d595208b4",
   "metadata": {},
   "outputs": [],
   "source": [
    "import os\n",
    "import json\n",
    "import numpy as np\n",
    "import pandas as pd\n",
    "import matplotlib.pyplot as plt\n",
    "import seaborn as sns\n",
    "from ydata_profiling import ProfileReport\n",
    "%matplotlib inline"
   ]
  },
  {
   "cell_type": "code",
   "execution_count": 2,
   "id": "cad1b318-a55c-4554-b50d-28004eb3b7fc",
   "metadata": {},
   "outputs": [
    {
     "data": {
      "text/html": [
       "<div>\n",
       "<style scoped>\n",
       "    .dataframe tbody tr th:only-of-type {\n",
       "        vertical-align: middle;\n",
       "    }\n",
       "\n",
       "    .dataframe tbody tr th {\n",
       "        vertical-align: top;\n",
       "    }\n",
       "\n",
       "    .dataframe thead th {\n",
       "        text-align: right;\n",
       "    }\n",
       "</style>\n",
       "<table border=\"1\" class=\"dataframe\">\n",
       "  <thead>\n",
       "    <tr style=\"text-align: right;\">\n",
       "      <th></th>\n",
       "      <th>Age</th>\n",
       "      <th>Attrition</th>\n",
       "      <th>BusinessTravel</th>\n",
       "      <th>DailyRate</th>\n",
       "      <th>Department</th>\n",
       "      <th>DistanceFromHome</th>\n",
       "      <th>Education</th>\n",
       "      <th>EducationField</th>\n",
       "      <th>EmployeeCount</th>\n",
       "      <th>EmployeeNumber</th>\n",
       "      <th>...</th>\n",
       "      <th>RelationshipSatisfaction</th>\n",
       "      <th>StandardHours</th>\n",
       "      <th>StockOptionLevel</th>\n",
       "      <th>TotalWorkingYears</th>\n",
       "      <th>TrainingTimesLastYear</th>\n",
       "      <th>WorkLifeBalance</th>\n",
       "      <th>YearsAtCompany</th>\n",
       "      <th>YearsInCurrentRole</th>\n",
       "      <th>YearsSinceLastPromotion</th>\n",
       "      <th>YearsWithCurrManager</th>\n",
       "    </tr>\n",
       "  </thead>\n",
       "  <tbody>\n",
       "    <tr>\n",
       "      <th>0</th>\n",
       "      <td>41</td>\n",
       "      <td>Yes</td>\n",
       "      <td>Travel_Rarely</td>\n",
       "      <td>1102</td>\n",
       "      <td>Sales</td>\n",
       "      <td>1</td>\n",
       "      <td>2</td>\n",
       "      <td>Life Sciences</td>\n",
       "      <td>1</td>\n",
       "      <td>1</td>\n",
       "      <td>...</td>\n",
       "      <td>1</td>\n",
       "      <td>80</td>\n",
       "      <td>0</td>\n",
       "      <td>8</td>\n",
       "      <td>0</td>\n",
       "      <td>1</td>\n",
       "      <td>6</td>\n",
       "      <td>4</td>\n",
       "      <td>0</td>\n",
       "      <td>5</td>\n",
       "    </tr>\n",
       "    <tr>\n",
       "      <th>1</th>\n",
       "      <td>49</td>\n",
       "      <td>No</td>\n",
       "      <td>Travel_Frequently</td>\n",
       "      <td>279</td>\n",
       "      <td>Research &amp; Development</td>\n",
       "      <td>8</td>\n",
       "      <td>1</td>\n",
       "      <td>Life Sciences</td>\n",
       "      <td>1</td>\n",
       "      <td>2</td>\n",
       "      <td>...</td>\n",
       "      <td>4</td>\n",
       "      <td>80</td>\n",
       "      <td>1</td>\n",
       "      <td>10</td>\n",
       "      <td>3</td>\n",
       "      <td>3</td>\n",
       "      <td>10</td>\n",
       "      <td>7</td>\n",
       "      <td>1</td>\n",
       "      <td>7</td>\n",
       "    </tr>\n",
       "    <tr>\n",
       "      <th>2</th>\n",
       "      <td>37</td>\n",
       "      <td>Yes</td>\n",
       "      <td>Travel_Rarely</td>\n",
       "      <td>1373</td>\n",
       "      <td>Research &amp; Development</td>\n",
       "      <td>2</td>\n",
       "      <td>2</td>\n",
       "      <td>Other</td>\n",
       "      <td>1</td>\n",
       "      <td>4</td>\n",
       "      <td>...</td>\n",
       "      <td>2</td>\n",
       "      <td>80</td>\n",
       "      <td>0</td>\n",
       "      <td>7</td>\n",
       "      <td>3</td>\n",
       "      <td>3</td>\n",
       "      <td>0</td>\n",
       "      <td>0</td>\n",
       "      <td>0</td>\n",
       "      <td>0</td>\n",
       "    </tr>\n",
       "    <tr>\n",
       "      <th>3</th>\n",
       "      <td>33</td>\n",
       "      <td>No</td>\n",
       "      <td>Travel_Frequently</td>\n",
       "      <td>1392</td>\n",
       "      <td>Research &amp; Development</td>\n",
       "      <td>3</td>\n",
       "      <td>4</td>\n",
       "      <td>Life Sciences</td>\n",
       "      <td>1</td>\n",
       "      <td>5</td>\n",
       "      <td>...</td>\n",
       "      <td>3</td>\n",
       "      <td>80</td>\n",
       "      <td>0</td>\n",
       "      <td>8</td>\n",
       "      <td>3</td>\n",
       "      <td>3</td>\n",
       "      <td>8</td>\n",
       "      <td>7</td>\n",
       "      <td>3</td>\n",
       "      <td>0</td>\n",
       "    </tr>\n",
       "    <tr>\n",
       "      <th>4</th>\n",
       "      <td>27</td>\n",
       "      <td>No</td>\n",
       "      <td>Travel_Rarely</td>\n",
       "      <td>591</td>\n",
       "      <td>Research &amp; Development</td>\n",
       "      <td>2</td>\n",
       "      <td>1</td>\n",
       "      <td>Medical</td>\n",
       "      <td>1</td>\n",
       "      <td>7</td>\n",
       "      <td>...</td>\n",
       "      <td>4</td>\n",
       "      <td>80</td>\n",
       "      <td>1</td>\n",
       "      <td>6</td>\n",
       "      <td>3</td>\n",
       "      <td>3</td>\n",
       "      <td>2</td>\n",
       "      <td>2</td>\n",
       "      <td>2</td>\n",
       "      <td>2</td>\n",
       "    </tr>\n",
       "  </tbody>\n",
       "</table>\n",
       "<p>5 rows × 35 columns</p>\n",
       "</div>"
      ],
      "text/plain": [
       "   Age Attrition     BusinessTravel  DailyRate              Department  \\\n",
       "0   41       Yes      Travel_Rarely       1102                   Sales   \n",
       "1   49        No  Travel_Frequently        279  Research & Development   \n",
       "2   37       Yes      Travel_Rarely       1373  Research & Development   \n",
       "3   33        No  Travel_Frequently       1392  Research & Development   \n",
       "4   27        No      Travel_Rarely        591  Research & Development   \n",
       "\n",
       "   DistanceFromHome  Education EducationField  EmployeeCount  EmployeeNumber  \\\n",
       "0                 1          2  Life Sciences              1               1   \n",
       "1                 8          1  Life Sciences              1               2   \n",
       "2                 2          2          Other              1               4   \n",
       "3                 3          4  Life Sciences              1               5   \n",
       "4                 2          1        Medical              1               7   \n",
       "\n",
       "   ...  RelationshipSatisfaction StandardHours  StockOptionLevel  \\\n",
       "0  ...                         1            80                 0   \n",
       "1  ...                         4            80                 1   \n",
       "2  ...                         2            80                 0   \n",
       "3  ...                         3            80                 0   \n",
       "4  ...                         4            80                 1   \n",
       "\n",
       "   TotalWorkingYears  TrainingTimesLastYear WorkLifeBalance  YearsAtCompany  \\\n",
       "0                  8                      0               1               6   \n",
       "1                 10                      3               3              10   \n",
       "2                  7                      3               3               0   \n",
       "3                  8                      3               3               8   \n",
       "4                  6                      3               3               2   \n",
       "\n",
       "  YearsInCurrentRole  YearsSinceLastPromotion  YearsWithCurrManager  \n",
       "0                  4                        0                     5  \n",
       "1                  7                        1                     7  \n",
       "2                  0                        0                     0  \n",
       "3                  7                        3                     0  \n",
       "4                  2                        2                     2  \n",
       "\n",
       "[5 rows x 35 columns]"
      ]
     },
     "execution_count": 2,
     "metadata": {},
     "output_type": "execute_result"
    }
   ],
   "source": [
    "df = pd.read_csv('data/IBM HR Analytics Employee Attrition & Performance.csv')\n",
    "df.head()"
   ]
  },
  {
   "cell_type": "code",
   "execution_count": 3,
   "id": "6fe76f28-5f3b-42a7-9c26-7af181a2002e",
   "metadata": {},
   "outputs": [
    {
     "data": {
      "text/plain": [
       "(35, 1470)"
      ]
     },
     "execution_count": 3,
     "metadata": {},
     "output_type": "execute_result"
    }
   ],
   "source": [
    "len(df.columns), len(df)"
   ]
  },
  {
   "cell_type": "code",
   "execution_count": 52,
   "id": "d9a39b60-15ea-48b5-9f28-6c8e14e1d46d",
   "metadata": {},
   "outputs": [
    {
     "data": {
      "text/plain": [
       "0               Age\n",
       "1         Attrition\n",
       "2    BusinessTravel\n",
       "3         DailyRate\n",
       "4        Department\n",
       "dtype: object"
      ]
     },
     "execution_count": 52,
     "metadata": {},
     "output_type": "execute_result"
    }
   ],
   "source": [
    "cols = pd.Series(df.columns)\n",
    "cols.head()"
   ]
  },
  {
   "cell_type": "code",
   "execution_count": 113,
   "id": "507ce1cf-e692-4a17-981c-0916e445d2b7",
   "metadata": {},
   "outputs": [
    {
     "data": {
      "text/plain": [
       "0    int64\n",
       "1      str\n",
       "2      str\n",
       "3    int64\n",
       "4      str\n",
       "dtype: object"
      ]
     },
     "execution_count": 113,
     "metadata": {},
     "output_type": "execute_result"
    }
   ],
   "source": [
    "import re\n",
    "col_dtypes = pd.Series()\n",
    "i = 0\n",
    "for col in cols:\n",
    "    dtype_str = re.sub(r\"<class '|'>\", \"\", str(type(df[col][0]))).replace('numpy.', '')\n",
    "    col_dtypes = col_dtypes._append(pd.Series(dtype_str, [i]))\n",
    "    i += 1\n",
    "col_dtypes.head()"
   ]
  },
  {
   "cell_type": "code",
   "execution_count": 138,
   "id": "3640f06c-8d60-4ae0-a95f-597a022a84a0",
   "metadata": {},
   "outputs": [
    {
     "data": {
      "text/plain": [
       "[[34, 44, 32],\n",
       " ['Yes', 'No'],\n",
       " ['Travel_Rarely', 'Travel_Frequently', 'Non-Travel'],\n",
       " [1005, 125, 591],\n",
       " ['Sales', 'Research & Development', 'Human Resources']]"
      ]
     },
     "execution_count": 138,
     "metadata": {},
     "output_type": "execute_result"
    }
   ],
   "source": [
    "col_examples = []\n",
    "i = 0\n",
    "\n",
    "for col in cols:\n",
    "    if col_dtypes.iloc[i].find('str') == -1:\n",
    "        col_examples += [[df[col][np.random.randint(len(cols))] for ix in range(3)]]\n",
    "    else:\n",
    "        col_examples += [list(df[col].unique())[:3]]\n",
    "    i += 1\n",
    "\n",
    "col_examples[:5]"
   ]
  },
  {
   "cell_type": "code",
   "execution_count": 163,
   "id": "eceefe96-50bf-4261-ada3-e3bb7f63b448",
   "metadata": {},
   "outputs": [
    {
     "data": {
      "text/html": [
       "<div>\n",
       "<style scoped>\n",
       "    .dataframe tbody tr th:only-of-type {\n",
       "        vertical-align: middle;\n",
       "    }\n",
       "\n",
       "    .dataframe tbody tr th {\n",
       "        vertical-align: top;\n",
       "    }\n",
       "\n",
       "    .dataframe thead th {\n",
       "        text-align: right;\n",
       "    }\n",
       "</style>\n",
       "<table border=\"1\" class=\"dataframe\">\n",
       "  <thead>\n",
       "    <tr style=\"text-align: right;\">\n",
       "      <th></th>\n",
       "      <th>Feature</th>\n",
       "      <th>Datatype</th>\n",
       "      <th>Example Values</th>\n",
       "    </tr>\n",
       "  </thead>\n",
       "  <tbody>\n",
       "    <tr>\n",
       "      <th>0</th>\n",
       "      <td>Age</td>\n",
       "      <td>int64</td>\n",
       "      <td>[34, 44, 32]</td>\n",
       "    </tr>\n",
       "    <tr>\n",
       "      <th>1</th>\n",
       "      <td>Attrition</td>\n",
       "      <td>str</td>\n",
       "      <td>[Yes, No]</td>\n",
       "    </tr>\n",
       "    <tr>\n",
       "      <th>2</th>\n",
       "      <td>BusinessTravel</td>\n",
       "      <td>str</td>\n",
       "      <td>[Travel_Rarely, Travel_Frequently, Non-Travel]</td>\n",
       "    </tr>\n",
       "    <tr>\n",
       "      <th>3</th>\n",
       "      <td>DailyRate</td>\n",
       "      <td>int64</td>\n",
       "      <td>[1005, 125, 591]</td>\n",
       "    </tr>\n",
       "    <tr>\n",
       "      <th>4</th>\n",
       "      <td>Department</td>\n",
       "      <td>str</td>\n",
       "      <td>[Sales, Research &amp; Development, Human Resources]</td>\n",
       "    </tr>\n",
       "  </tbody>\n",
       "</table>\n",
       "</div>"
      ],
      "text/plain": [
       "          Feature Datatype                                    Example Values\n",
       "0             Age    int64                                      [34, 44, 32]\n",
       "1       Attrition      str                                         [Yes, No]\n",
       "2  BusinessTravel      str    [Travel_Rarely, Travel_Frequently, Non-Travel]\n",
       "3       DailyRate    int64                                  [1005, 125, 591]\n",
       "4      Department      str  [Sales, Research & Development, Human Resources]"
      ]
     },
     "execution_count": 163,
     "metadata": {},
     "output_type": "execute_result"
    }
   ],
   "source": [
    "feature_df = pd.DataFrame({\n",
    "    'Feature': cols,\n",
    "    'Datatype': col_dtypes,\n",
    "    'Example Values': col_examples\n",
    "})\n",
    "feature_df.head()"
   ]
  },
  {
   "cell_type": "code",
   "execution_count": 164,
   "id": "a88b9e8c-0269-416b-ac11-b7eb2532e91d",
   "metadata": {},
   "outputs": [],
   "source": [
    "feature_df.to_csv('Description of Data Features.csv', index=False)"
   ]
  },
  {
   "cell_type": "code",
   "execution_count": null,
   "id": "de759ce7-6893-420b-91fa-e7b7d2d76bf1",
   "metadata": {},
   "outputs": [],
   "source": []
  },
  {
   "cell_type": "code",
   "execution_count": null,
   "id": "4216204f-1064-46ae-a953-07565bbc088b",
   "metadata": {},
   "outputs": [],
   "source": []
  },
  {
   "cell_type": "code",
   "execution_count": null,
   "id": "b082172b-6791-43aa-a7ab-7fde1e6c8b56",
   "metadata": {},
   "outputs": [],
   "source": []
  },
  {
   "cell_type": "code",
   "execution_count": null,
   "id": "b81e23e0-1955-4522-afa7-cefdca0bf600",
   "metadata": {},
   "outputs": [],
   "source": []
  },
  {
   "cell_type": "code",
   "execution_count": null,
   "id": "4635042d-f26e-421d-a72b-963c55af46bd",
   "metadata": {},
   "outputs": [],
   "source": []
  },
  {
   "cell_type": "code",
   "execution_count": null,
   "id": "2ae62635-d974-4091-8b1f-369ff267203f",
   "metadata": {},
   "outputs": [],
   "source": [
    "profile = ProfileReport(df, title='Profiling Report', dark_mode=True)"
   ]
  },
  {
   "cell_type": "code",
   "execution_count": null,
   "id": "7c24bb32-4e60-4f44-b5e7-6c6101d40f87",
   "metadata": {},
   "outputs": [],
   "source": [
    "# profile.to_file('my_report.html')"
   ]
  },
  {
   "cell_type": "code",
   "execution_count": null,
   "id": "4c80f373-1716-4c88-8c60-c4faf2184aa0",
   "metadata": {},
   "outputs": [],
   "source": [
    "fig, ax = plt.subplots()\n",
    "ax.scatter(df['DistanceFromHome'], df['YearsAtCompany'])\n",
    "plt.show()"
   ]
  },
  {
   "cell_type": "code",
   "execution_count": null,
   "id": "f2d9dce5-dc20-4faa-8864-8e1262854411",
   "metadata": {},
   "outputs": [],
   "source": [
    "# Example DataFrame\n",
    "data = {\n",
    "    'A': ['dog', 'cat', 'dog', 'bird'],\n",
    "    'B': [1, 2, 3, 4]\n",
    "}\n",
    "df2 = pd.DataFrame(data)\n",
    "print(f'str column before factorization: \\n{df2['A']}')\n",
    "# Notice how the dtype is an \"object\" instead of str.\n",
    "print(f'first element of str columne type: {type(df2['A'][0])}')\n",
    "\n",
    "# Dictionary to store the mappings\n",
    "mappings = {}\n",
    "\n",
    "# Encoding string columns to numeric\n",
    "for column in df2.select_dtypes(include=['object']).columns:\n",
    "    df2[column], mapping = pd.factorize(df2[column])\n",
    "    mappings[column] = dict(enumerate(mapping))\n",
    "\n",
    "print('\\nOriginal DataFrame:')\n",
    "print(pd.DataFrame(data))\n",
    "print('\\nEncoded DataFrame:')\n",
    "print(df2)\n",
    "print('\\nMappings:')\n",
    "print(mappings)"
   ]
  },
  {
   "cell_type": "markdown",
   "id": "4f25bba8-f3f3-4082-bcda-6260291e509d",
   "metadata": {},
   "source": [
    "## Let's apply our knowledge to the original data."
   ]
  },
  {
   "cell_type": "code",
   "execution_count": null,
   "id": "dfbb17c9-352c-48b2-a3a0-663e607c13c7",
   "metadata": {},
   "outputs": [],
   "source": [
    "df.head()"
   ]
  },
  {
   "cell_type": "code",
   "execution_count": null,
   "id": "5f34d78d-f104-4a2d-8fa5-b0c091414365",
   "metadata": {},
   "outputs": [],
   "source": [
    "# We already have the DataFrame.\n",
    "\n",
    "# Create a dictionary to store the mappings\n",
    "mappings = {}\n",
    "\n",
    "for column in df.select_dtypes(include='object'):\n",
    "    df[column], mapping = df[column].factorize()\n",
    "    mappings[column] = dict(enumerate(mapping))"
   ]
  },
  {
   "cell_type": "code",
   "execution_count": null,
   "id": "9de297d2-4f19-4905-a1ea-a3f3baf21717",
   "metadata": {},
   "outputs": [],
   "source": [
    "df.head()"
   ]
  },
  {
   "cell_type": "code",
   "execution_count": null,
   "id": "ceb5ee37-36ba-41e6-b59f-4717c686df29",
   "metadata": {},
   "outputs": [],
   "source": [
    "mappings"
   ]
  },
  {
   "cell_type": "code",
   "execution_count": null,
   "id": "e70909cd-18a3-4d12-9243-686581ba1c1d",
   "metadata": {},
   "outputs": [],
   "source": [
    "# Split the data into X and y\n",
    "X = df.drop('Attrition', axis=1)\n",
    "y = df['Attrition']"
   ]
  },
  {
   "cell_type": "code",
   "execution_count": null,
   "id": "47c81a2f-a771-4691-83a1-46f0633916a6",
   "metadata": {},
   "outputs": [],
   "source": [
    "# Split the data into training and test sets\n",
    "from sklearn.model_selection import train_test_split\n",
    "X_train, X_test, y_train, y_test = train_test_split(X, y)"
   ]
  },
  {
   "cell_type": "code",
   "execution_count": null,
   "id": "492bce8b-cb5f-4853-9112-07e01745d5eb",
   "metadata": {},
   "outputs": [],
   "source": [
    "# Random Forest Classifier\n",
    "from sklearn.ensemble import RandomForestClassifier\n",
    "# Instantiating a Random Forest Regressor\n",
    "clf = RandomForestClassifier()"
   ]
  },
  {
   "cell_type": "code",
   "execution_count": null,
   "id": "181cd08b-f37b-413b-9c92-f89276c795f4",
   "metadata": {},
   "outputs": [],
   "source": [
    "# Fit the model to the data\n",
    "clf.fit(X_train, y_train)"
   ]
  },
  {
   "cell_type": "code",
   "execution_count": null,
   "id": "50654a12-497f-4bc3-ae6e-a5a12db6833c",
   "metadata": {},
   "outputs": [],
   "source": [
    "# Test the model on the test data\n",
    "clf.score(X_test, y_test)"
   ]
  },
  {
   "cell_type": "code",
   "execution_count": null,
   "id": "ab4471ec-cabd-49bb-8eb6-49c67c30a1ab",
   "metadata": {},
   "outputs": [],
   "source": [
    "y_preds = clf.predict(X_test)\n",
    "y_probs = clf.predict_proba(X_test)"
   ]
  },
  {
   "cell_type": "markdown",
   "id": "fcc38a09-fd61-4106-8653-44172e9d93dc",
   "metadata": {},
   "source": [
    "### Different classification metrics"
   ]
  },
  {
   "cell_type": "code",
   "execution_count": null,
   "id": "8fe6b091-8668-48e7-aa29-220f50bbd2bc",
   "metadata": {},
   "outputs": [],
   "source": [
    "# Accuracy\n",
    "from sklearn.metrics import accuracy_score\n",
    "print(accuracy_score(y_test, y_preds))"
   ]
  },
  {
   "cell_type": "code",
   "execution_count": null,
   "id": "3a136294-e157-4648-85b4-4cb45c2a8c56",
   "metadata": {},
   "outputs": [],
   "source": [
    "# Receiver Operating Characteristic (ROC curve)/Area under curve (AUC)\n",
    "from sklearn.metrics import roc_curve, roc_auc_score\n",
    "false_positive_rate, true_positive_rate, thresholds = roc_curve(y_test, y_probs[:, 1])\n",
    "print(f'Area under ROC: {roc_auc_score(y_test, y_preds)}')\n",
    "print(f'FPR: {false_positive_rate}, \\nTPR: {true_positive_rate}, \\nThresholds: {thresholds}')"
   ]
  },
  {
   "cell_type": "code",
   "execution_count": null,
   "id": "c3fb6626-fe46-4ed9-8397-0ed4988ce56e",
   "metadata": {},
   "outputs": [],
   "source": [
    "# Confusion Matrix\n",
    "from sklearn.metrics import confusion_matrix\n",
    "print(confusion_matrix(y_test, y_preds))"
   ]
  },
  {
   "cell_type": "code",
   "execution_count": null,
   "id": "c6fe866c-610d-45f8-97a6-761a968884e8",
   "metadata": {},
   "outputs": [],
   "source": [
    "# Classification report\n",
    "from sklearn.metrics import classification_report\n",
    "print(classification_report(y_test, y_preds))"
   ]
  },
  {
   "cell_type": "markdown",
   "id": "e5579869-f98c-475e-b05b-7690e6e5ca47",
   "metadata": {},
   "source": [
    "### Let's try to improve the model through hyperparameters."
   ]
  },
  {
   "cell_type": "code",
   "execution_count": null,
   "id": "1173c493-d03c-4396-8ec8-a24f52361a86",
   "metadata": {},
   "outputs": [],
   "source": [
    "clf = RandomForestClassifier()\n",
    "clf.get_params()"
   ]
  },
  {
   "cell_type": "code",
   "execution_count": null,
   "id": "7cfec204-7a16-4396-8538-daf55ebd0ec2",
   "metadata": {},
   "outputs": [],
   "source": [
    "from sklearn.model_selection import RandomizedSearchCV\n",
    "\n",
    "# Define a grid of hyperparameters\n",
    "grid = {'n_estimators': list(range(10, 200, 10)),\n",
    "        'max_depth': [None] + list(range(5, 50, 5)),\n",
    "        'max_features': (['sqrt', 'log2'] + list(range(1, 20, 2))),\n",
    "        'min_samples_split': list(range(2, 20, 2)),\n",
    "        'min_samples_leaf': list(range(1, 10, 1))}\n",
    "\n",
    "# Split into train and test sets\n",
    "X_train, X_test, y_train, y_test = train_test_split(X, y, test_size=0.2)\n",
    "\n",
    "# Use all cores\n",
    "clf = RandomForestClassifier(n_jobs=-1)\n",
    "\n",
    "# Setup RandomizedSearchCV\n",
    "rs_clf = RandomizedSearchCV(estimator=clf,\n",
    "                            param_distributions=grid,\n",
    "                            n_iter=10000, # Trying 1000 different models\n",
    "                            cv=3, # 10-fold cross-validation\n",
    "                            verbose=2) # Print out the results\n",
    "\n",
    "# Fit the RandomizedSearchCV version of clf\n",
    "rs_clf.fit(X_train, y_train)\n",
    "\n",
    "# Find the best hyperparameters\n",
    "print(rs_clf.best_params_)\n",
    "\n",
    "# Scoring automatically uses the best hyperparameters\n",
    "rs_clf.score(X_test, y_test)"
   ]
  },
  {
   "cell_type": "code",
   "execution_count": null,
   "id": "bb4a418c-e16f-4570-9061-479e607efb32",
   "metadata": {},
   "outputs": [],
   "source": [
    "import pickle\n",
    "\n",
    "pickle.dump(rs_clf, open('random_forest_model_1.pkl', 'wb'))"
   ]
  },
  {
   "cell_type": "code",
   "execution_count": null,
   "id": "0a506fbd-40da-4d4f-9f67-84fe722ec77c",
   "metadata": {},
   "outputs": [],
   "source": []
  }
 ],
 "metadata": {
  "kernelspec": {
   "display_name": "Python 3 (ipykernel)",
   "language": "python",
   "name": "python3"
  },
  "language_info": {
   "codemirror_mode": {
    "name": "ipython",
    "version": 3
   },
   "file_extension": ".py",
   "mimetype": "text/x-python",
   "name": "python",
   "nbconvert_exporter": "python",
   "pygments_lexer": "ipython3",
   "version": "3.12.4"
  }
 },
 "nbformat": 4,
 "nbformat_minor": 5
}
