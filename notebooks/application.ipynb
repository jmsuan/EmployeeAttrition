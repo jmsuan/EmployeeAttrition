{
 "cells": [
  {
   "cell_type": "markdown",
   "id": "7dcbd7f4-8619-49a6-9d57-fffca183bd50",
   "metadata": {},
   "source": [
    "# Predict the Likelihood of Employee Attrition\n",
    "Adjust the sliders, dropdowns, and checkboxes to update the bar underneath. Various employee attributes may only affect attrition when combined with other attributes. Please note that if any employee survey result falls outside of the allowed range of the inputs below, our current machine learning model cannot make a valuable prediction.\n",
    "\n",
    "The default values are median values of our current data where applicable."
   ]
  },
  {
   "cell_type": "code",
   "execution_count": 1,
   "id": "2efb67ab-32f2-4207-96cd-e4964e17d734",
   "metadata": {},
   "outputs": [
    {
     "data": {
      "application/vnd.jupyter.widget-view+json": {
       "model_id": "d7cccf2deef84c6ca24f5c314ff2a4a4",
       "version_major": 2,
       "version_minor": 0
      },
      "text/plain": [
       "IntSlider(value=36, description='Age', layout=Layout(width='50%'), max=60, min=18, style=SliderStyle(descripti…"
      ]
     },
     "metadata": {},
     "output_type": "display_data"
    },
    {
     "data": {
      "application/vnd.jupyter.widget-view+json": {
       "model_id": "7e3e7fd0e2a3427da7a9235b85a027d6",
       "version_major": 2,
       "version_minor": 0
      },
      "text/plain": [
       "Dropdown(description='BusinessTravel', layout=Layout(width='50%'), options={'Travel_Rarely': 0, 'Travel_Freque…"
      ]
     },
     "metadata": {},
     "output_type": "display_data"
    },
    {
     "data": {
      "application/vnd.jupyter.widget-view+json": {
       "model_id": "0b14e5827d1543009eae9d7274e88c3f",
       "version_major": 2,
       "version_minor": 0
      },
      "text/plain": [
       "IntSlider(value=802, description='DailyRate', layout=Layout(width='50%'), max=1499, min=102, style=SliderStyle…"
      ]
     },
     "metadata": {},
     "output_type": "display_data"
    },
    {
     "data": {
      "application/vnd.jupyter.widget-view+json": {
       "model_id": "6844feb9ee884f02bb2ea2994b5009b8",
       "version_major": 2,
       "version_minor": 0
      },
      "text/plain": [
       "Dropdown(description='Department', layout=Layout(width='50%'), options={'Sales': 0, 'Research & Development': …"
      ]
     },
     "metadata": {},
     "output_type": "display_data"
    },
    {
     "data": {
      "application/vnd.jupyter.widget-view+json": {
       "model_id": "175a67e53330409fbcac996497932776",
       "version_major": 2,
       "version_minor": 0
      },
      "text/plain": [
       "IntSlider(value=7, description='DistanceFromHome', layout=Layout(width='50%'), max=29, min=1, style=SliderStyl…"
      ]
     },
     "metadata": {},
     "output_type": "display_data"
    },
    {
     "data": {
      "application/vnd.jupyter.widget-view+json": {
       "model_id": "c66ff0414eca48c2b75de164d3023381",
       "version_major": 2,
       "version_minor": 0
      },
      "text/plain": [
       "IntSlider(value=3, description='Education', layout=Layout(width='50%'), max=5, min=1, style=SliderStyle(descri…"
      ]
     },
     "metadata": {},
     "output_type": "display_data"
    },
    {
     "data": {
      "application/vnd.jupyter.widget-view+json": {
       "model_id": "bbb30dec25d64b2384e6e106fc4eb25a",
       "version_major": 2,
       "version_minor": 0
      },
      "text/plain": [
       "Dropdown(description='EducationField', layout=Layout(width='50%'), options={'Life Sciences': 0, 'Other': 1, 'M…"
      ]
     },
     "metadata": {},
     "output_type": "display_data"
    },
    {
     "data": {
      "application/vnd.jupyter.widget-view+json": {
       "model_id": "0d11b184a2ff4e9d94439b375568e1fb",
       "version_major": 2,
       "version_minor": 0
      },
      "text/plain": [
       "IntSlider(value=3, description='EnvironmentSatisfaction', layout=Layout(width='50%'), max=4, min=1, style=Slid…"
      ]
     },
     "metadata": {},
     "output_type": "display_data"
    },
    {
     "data": {
      "application/vnd.jupyter.widget-view+json": {
       "model_id": "6e27ab0e6c1f4286b0b434db167269f1",
       "version_major": 2,
       "version_minor": 0
      },
      "text/plain": [
       "Dropdown(description='Gender', layout=Layout(width='50%'), options={'Female': 0, 'Male': 1}, style=Description…"
      ]
     },
     "metadata": {},
     "output_type": "display_data"
    },
    {
     "data": {
      "application/vnd.jupyter.widget-view+json": {
       "model_id": "b47ab08ce7d944248bf9788e9adc4f74",
       "version_major": 2,
       "version_minor": 0
      },
      "text/plain": [
       "IntSlider(value=66, description='HourlyRate', layout=Layout(width='50%'), min=30, style=SliderStyle(descriptio…"
      ]
     },
     "metadata": {},
     "output_type": "display_data"
    },
    {
     "data": {
      "application/vnd.jupyter.widget-view+json": {
       "model_id": "1e2a6cf591d84efd8203f5f829e350aa",
       "version_major": 2,
       "version_minor": 0
      },
      "text/plain": [
       "IntSlider(value=3, description='JobInvolvement', layout=Layout(width='50%'), max=4, min=1, style=SliderStyle(d…"
      ]
     },
     "metadata": {},
     "output_type": "display_data"
    },
    {
     "data": {
      "application/vnd.jupyter.widget-view+json": {
       "model_id": "d8012ff82bc846ff87d3e5cc8e216b7b",
       "version_major": 2,
       "version_minor": 0
      },
      "text/plain": [
       "IntSlider(value=2, description='JobLevel', layout=Layout(width='50%'), max=5, min=1, style=SliderStyle(descrip…"
      ]
     },
     "metadata": {},
     "output_type": "display_data"
    },
    {
     "data": {
      "application/vnd.jupyter.widget-view+json": {
       "model_id": "c40f020fc0af442e881e271afda332e5",
       "version_major": 2,
       "version_minor": 0
      },
      "text/plain": [
       "Dropdown(description='JobRole', layout=Layout(width='50%'), options={'Sales Executive': 0, 'Research Scientist…"
      ]
     },
     "metadata": {},
     "output_type": "display_data"
    },
    {
     "data": {
      "application/vnd.jupyter.widget-view+json": {
       "model_id": "d47e291633a74b368237aebc217c44b3",
       "version_major": 2,
       "version_minor": 0
      },
      "text/plain": [
       "IntSlider(value=3, description='JobSatisfaction', layout=Layout(width='50%'), max=4, min=1, style=SliderStyle(…"
      ]
     },
     "metadata": {},
     "output_type": "display_data"
    },
    {
     "data": {
      "application/vnd.jupyter.widget-view+json": {
       "model_id": "9d38951ea85145aeb1d2fe8f20432a12",
       "version_major": 2,
       "version_minor": 0
      },
      "text/plain": [
       "Dropdown(description='MaritalStatus', layout=Layout(width='50%'), options={'Single': 0, 'Married': 1, 'Divorce…"
      ]
     },
     "metadata": {},
     "output_type": "display_data"
    },
    {
     "data": {
      "application/vnd.jupyter.widget-view+json": {
       "model_id": "f16abe9621de41408895523f73a2b80a",
       "version_major": 2,
       "version_minor": 0
      },
      "text/plain": [
       "IntSlider(value=4919, description='MonthlyIncome', layout=Layout(width='50%'), max=19999, min=1009, style=Slid…"
      ]
     },
     "metadata": {},
     "output_type": "display_data"
    },
    {
     "data": {
      "application/vnd.jupyter.widget-view+json": {
       "model_id": "0d5f5bcf7831482bade4e9228a03fed2",
       "version_major": 2,
       "version_minor": 0
      },
      "text/plain": [
       "IntSlider(value=14236, description='MonthlyRate', layout=Layout(width='50%'), max=26999, min=2094, style=Slide…"
      ]
     },
     "metadata": {},
     "output_type": "display_data"
    },
    {
     "data": {
      "application/vnd.jupyter.widget-view+json": {
       "model_id": "78d87635a179448aafa3c86c2722a8c2",
       "version_major": 2,
       "version_minor": 0
      },
      "text/plain": [
       "IntSlider(value=3, description='NumCompaniesWorked', layout=Layout(width='50%'), max=10, min=1, style=SliderSt…"
      ]
     },
     "metadata": {},
     "output_type": "display_data"
    },
    {
     "data": {
      "application/vnd.jupyter.widget-view+json": {
       "model_id": "83cd351e2a404728b60a8695e7eebb5d",
       "version_major": 2,
       "version_minor": 0
      },
      "text/plain": [
       "Checkbox(value=False, description='Overtime', layout=Layout(width='50%'), style=CheckboxStyle(description_widt…"
      ]
     },
     "metadata": {},
     "output_type": "display_data"
    },
    {
     "data": {
      "application/vnd.jupyter.widget-view+json": {
       "model_id": "9abc954a33c646b389983e9a5b4396a5",
       "version_major": 2,
       "version_minor": 0
      },
      "text/plain": [
       "IntSlider(value=14, description='PercentSalaryHike', layout=Layout(width='50%'), max=25, min=11, style=SliderS…"
      ]
     },
     "metadata": {},
     "output_type": "display_data"
    },
    {
     "data": {
      "application/vnd.jupyter.widget-view+json": {
       "model_id": "70262993251b4ab7b60dc425708b4df3",
       "version_major": 2,
       "version_minor": 0
      },
      "text/plain": [
       "IntSlider(value=3, description='PerformanceRating', layout=Layout(width='50%'), max=4, min=3, style=SliderStyl…"
      ]
     },
     "metadata": {},
     "output_type": "display_data"
    },
    {
     "data": {
      "application/vnd.jupyter.widget-view+json": {
       "model_id": "528bd2ae876540b2b868ea6f65bb58a4",
       "version_major": 2,
       "version_minor": 0
      },
      "text/plain": [
       "IntSlider(value=3, description='RelationshipSatisfaction', layout=Layout(width='50%'), max=4, min=1, style=Sli…"
      ]
     },
     "metadata": {},
     "output_type": "display_data"
    },
    {
     "data": {
      "application/vnd.jupyter.widget-view+json": {
       "model_id": "5d67e95eb3c24eb0b8ef62b77e203882",
       "version_major": 2,
       "version_minor": 0
      },
      "text/plain": [
       "IntSlider(value=1, description='StockOptionLevel', layout=Layout(width='50%'), max=3, style=SliderStyle(descri…"
      ]
     },
     "metadata": {},
     "output_type": "display_data"
    },
    {
     "data": {
      "application/vnd.jupyter.widget-view+json": {
       "model_id": "45135e528cd043fdaa2b5b3462bbbadb",
       "version_major": 2,
       "version_minor": 0
      },
      "text/plain": [
       "IntSlider(value=10, description='TotalWorkingYears', layout=Layout(width='50%'), max=40, style=SliderStyle(des…"
      ]
     },
     "metadata": {},
     "output_type": "display_data"
    },
    {
     "data": {
      "application/vnd.jupyter.widget-view+json": {
       "model_id": "6616bad07ef54f5cb1e4b7913ab92140",
       "version_major": 2,
       "version_minor": 0
      },
      "text/plain": [
       "IntSlider(value=3, description='TrainingTimesLastYear', layout=Layout(width='50%'), max=6, style=SliderStyle(d…"
      ]
     },
     "metadata": {},
     "output_type": "display_data"
    },
    {
     "data": {
      "application/vnd.jupyter.widget-view+json": {
       "model_id": "efa5e4f471ba4d59b95d8b75ca511e4e",
       "version_major": 2,
       "version_minor": 0
      },
      "text/plain": [
       "IntSlider(value=3, description='WorkLifeBalance', layout=Layout(width='50%'), max=4, min=1, style=SliderStyle(…"
      ]
     },
     "metadata": {},
     "output_type": "display_data"
    },
    {
     "data": {
      "application/vnd.jupyter.widget-view+json": {
       "model_id": "306ae7db23a342ae8b5acf429d6b465b",
       "version_major": 2,
       "version_minor": 0
      },
      "text/plain": [
       "IntSlider(value=5, description='YearsAtCompany', layout=Layout(width='50%'), max=40, style=SliderStyle(descrip…"
      ]
     },
     "metadata": {},
     "output_type": "display_data"
    },
    {
     "data": {
      "application/vnd.jupyter.widget-view+json": {
       "model_id": "d6ef18a4d94648e98ba8a2ac93bd175a",
       "version_major": 2,
       "version_minor": 0
      },
      "text/plain": [
       "IntSlider(value=3, description='YearsInCurrentRole', layout=Layout(width='50%'), max=18, style=SliderStyle(des…"
      ]
     },
     "metadata": {},
     "output_type": "display_data"
    },
    {
     "data": {
      "application/vnd.jupyter.widget-view+json": {
       "model_id": "f3232fe4ae2249cabbad3b3a9506dcbd",
       "version_major": 2,
       "version_minor": 0
      },
      "text/plain": [
       "IntSlider(value=1, description='YearsSinceLastPromotion', layout=Layout(width='50%'), max=15, style=SliderStyl…"
      ]
     },
     "metadata": {},
     "output_type": "display_data"
    },
    {
     "data": {
      "application/vnd.jupyter.widget-view+json": {
       "model_id": "d5e570ece64345d78262e5c55c1783bd",
       "version_major": 2,
       "version_minor": 0
      },
      "text/plain": [
       "IntSlider(value=3, description='YearsWithCurrManager', layout=Layout(width='50%'), max=17, style=SliderStyle(d…"
      ]
     },
     "metadata": {},
     "output_type": "display_data"
    },
    {
     "data": {
      "application/vnd.jupyter.widget-view+json": {
       "model_id": "00235f7c9df74fb2abd7aa03b59aa1a9",
       "version_major": 2,
       "version_minor": 0
      },
      "text/plain": [
       "HBox(children=(FloatProgress(value=0.05659430124845661, bar_style='danger', description='Probability:', layout…"
      ]
     },
     "metadata": {},
     "output_type": "display_data"
    }
   ],
   "source": [
    "import application\n",
    "application.DisplayApp()"
   ]
  },
  {
   "attachments": {},
   "cell_type": "markdown",
   "id": "51e1d4a2-e54e-4de8-986a-eaa94c85a315",
   "metadata": {},
   "source": [
    "## Figure 1\n",
    "#### Attrition by Tenure and Income\n",
    "Many employee attributes can correlate with that employee's attrition. These attributes can usually be inferred from first principles. For instance, those with a high monthly income are *generally* more satisfied with their profession. Additionally, employees that have already been at the company for a long period of time are *generally* more satisfied with their profession. One can also make the argument that the higher the employee's satisfaction in their profession, the less likely they *generally* are to quit/attrition.\n",
    "\n",
    "![Attrition by Tenure and Income](../../reports/figures/attrition_by_tenure_and_income.png)"
   ]
  },
  {
   "cell_type": "markdown",
   "id": "43497e10-4ecf-4e17-8c3a-70a1107bb577",
   "metadata": {},
   "source": [
    "## Figure 2\n",
    "#### Impact of Overtime on Attrition\n",
    "An attribute that I found to be of particular importance is whether the employee works overtime or not. In the data my model is trained on, overtime is significantly correlated with any employee's likelihood of quitting. Using the model UI, you can observe a significant difference in the probability of attrition when overtime is selected versus when it is not.\n",
    "\n",
    "![Impact of Overtime on Attrition](../../reports/figures/impact_of_overtime_on_attrition.png)"
   ]
  }
 ],
 "metadata": {
  "kernelspec": {
   "display_name": "Python 3 (ipykernel)",
   "language": "python",
   "name": "python3"
  },
  "language_info": {
   "codemirror_mode": {
    "name": "ipython",
    "version": 3
   },
   "file_extension": ".py",
   "mimetype": "text/x-python",
   "name": "python",
   "nbconvert_exporter": "python",
   "pygments_lexer": "ipython3",
   "version": "3.12.4"
  }
 },
 "nbformat": 4,
 "nbformat_minor": 5
}
