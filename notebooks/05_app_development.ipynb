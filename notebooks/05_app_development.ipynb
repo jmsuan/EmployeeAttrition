{
 "cells": [
  {
   "cell_type": "markdown",
   "id": "13cecfe2-e307-474a-a79c-4c179c13181c",
   "metadata": {},
   "source": [
    "# Application Development\n",
    "I will build a graphical interface that can use the model I trained in a visual format for use. This way, someone can visually see how various features affect the model's class prediction."
   ]
  },
  {
   "cell_type": "markdown",
   "id": "a9f70cd4-abee-49ff-b292-23af1efc2fcd",
   "metadata": {},
   "source": [
    "## Import the model"
   ]
  },
  {
   "cell_type": "code",
   "execution_count": 9,
   "id": "d279013a-548a-456e-924b-483d751fa750",
   "metadata": {},
   "outputs": [],
   "source": [
    "from sklearn.ensemble import StackingClassifier\n",
    "import pickle"
   ]
  },
  {
   "cell_type": "code",
   "execution_count": 10,
   "id": "3a3f6a35-9d37-47c8-9ddc-7a92a03d42bf",
   "metadata": {},
   "outputs": [],
   "source": [
    "clf = pickle.load(open('../models/stacking_classifier_optimized.pkl', 'rb'))"
   ]
  },
  {
   "cell_type": "markdown",
   "id": "509240fd-9704-4f46-9025-7a9651a0b777",
   "metadata": {},
   "source": [
    "## Import the data and mappings\n",
    "I need to reference what features to include in our widget, as well as allow ourselves to map user-readable values to a prediction input."
   ]
  },
  {
   "cell_type": "code",
   "execution_count": 15,
   "id": "11686675-64ff-4ee2-84a8-93837ec92e30",
   "metadata": {},
   "outputs": [],
   "source": [
    "import numpy as np\n",
    "import pandas as pd\n",
    "import json"
   ]
  },
  {
   "cell_type": "code",
   "execution_count": 19,
   "id": "3f1f8dd8-10d5-41f7-b834-5d539ea77def",
   "metadata": {},
   "outputs": [],
   "source": [
    "# Load the test set\n",
    "X_test = pd.read_csv('../data/X_test.csv')\n",
    "y_test = pd.read_csv('../data/y_test.csv')\n",
    "raw_map = json.load(open('../data/mappings.json', 'rb'))"
   ]
  },
  {
   "cell_type": "code",
   "execution_count": 59,
   "id": "3b85a5ac-2cd5-4fea-a687-abb30652404a",
   "metadata": {},
   "outputs": [
    {
     "data": {
      "text/html": [
       "<div>\n",
       "<style scoped>\n",
       "    .dataframe tbody tr th:only-of-type {\n",
       "        vertical-align: middle;\n",
       "    }\n",
       "\n",
       "    .dataframe tbody tr th {\n",
       "        vertical-align: top;\n",
       "    }\n",
       "\n",
       "    .dataframe thead th {\n",
       "        text-align: right;\n",
       "    }\n",
       "</style>\n",
       "<table border=\"1\" class=\"dataframe\">\n",
       "  <thead>\n",
       "    <tr style=\"text-align: right;\">\n",
       "      <th></th>\n",
       "      <th>Age</th>\n",
       "      <th>BusinessTravel</th>\n",
       "      <th>DailyRate</th>\n",
       "      <th>Department</th>\n",
       "      <th>DistanceFromHome</th>\n",
       "      <th>Education</th>\n",
       "      <th>EducationField</th>\n",
       "      <th>EnvironmentSatisfaction</th>\n",
       "      <th>Gender</th>\n",
       "      <th>HourlyRate</th>\n",
       "      <th>...</th>\n",
       "      <th>PerformanceRating</th>\n",
       "      <th>RelationshipSatisfaction</th>\n",
       "      <th>StockOptionLevel</th>\n",
       "      <th>TotalWorkingYears</th>\n",
       "      <th>TrainingTimesLastYear</th>\n",
       "      <th>WorkLifeBalance</th>\n",
       "      <th>YearsAtCompany</th>\n",
       "      <th>YearsInCurrentRole</th>\n",
       "      <th>YearsSinceLastPromotion</th>\n",
       "      <th>YearsWithCurrManager</th>\n",
       "    </tr>\n",
       "  </thead>\n",
       "  <tbody>\n",
       "    <tr>\n",
       "      <th>8</th>\n",
       "      <td>28</td>\n",
       "      <td>1</td>\n",
       "      <td>791</td>\n",
       "      <td>1</td>\n",
       "      <td>1</td>\n",
       "      <td>4</td>\n",
       "      <td>2</td>\n",
       "      <td>4</td>\n",
       "      <td>1</td>\n",
       "      <td>44</td>\n",
       "      <td>...</td>\n",
       "      <td>3</td>\n",
       "      <td>3</td>\n",
       "      <td>0</td>\n",
       "      <td>5</td>\n",
       "      <td>2</td>\n",
       "      <td>2</td>\n",
       "      <td>4</td>\n",
       "      <td>2</td>\n",
       "      <td>0</td>\n",
       "      <td>2</td>\n",
       "    </tr>\n",
       "    <tr>\n",
       "      <th>144</th>\n",
       "      <td>22</td>\n",
       "      <td>0</td>\n",
       "      <td>1294</td>\n",
       "      <td>1</td>\n",
       "      <td>8</td>\n",
       "      <td>1</td>\n",
       "      <td>2</td>\n",
       "      <td>3</td>\n",
       "      <td>0</td>\n",
       "      <td>79</td>\n",
       "      <td>...</td>\n",
       "      <td>3</td>\n",
       "      <td>3</td>\n",
       "      <td>0</td>\n",
       "      <td>1</td>\n",
       "      <td>6</td>\n",
       "      <td>3</td>\n",
       "      <td>1</td>\n",
       "      <td>0</td>\n",
       "      <td>0</td>\n",
       "      <td>0</td>\n",
       "    </tr>\n",
       "    <tr>\n",
       "      <th>50</th>\n",
       "      <td>32</td>\n",
       "      <td>1</td>\n",
       "      <td>689</td>\n",
       "      <td>0</td>\n",
       "      <td>9</td>\n",
       "      <td>2</td>\n",
       "      <td>2</td>\n",
       "      <td>4</td>\n",
       "      <td>1</td>\n",
       "      <td>35</td>\n",
       "      <td>...</td>\n",
       "      <td>3</td>\n",
       "      <td>4</td>\n",
       "      <td>3</td>\n",
       "      <td>9</td>\n",
       "      <td>2</td>\n",
       "      <td>4</td>\n",
       "      <td>8</td>\n",
       "      <td>7</td>\n",
       "      <td>0</td>\n",
       "      <td>7</td>\n",
       "    </tr>\n",
       "    <tr>\n",
       "      <th>226</th>\n",
       "      <td>59</td>\n",
       "      <td>0</td>\n",
       "      <td>326</td>\n",
       "      <td>0</td>\n",
       "      <td>3</td>\n",
       "      <td>3</td>\n",
       "      <td>0</td>\n",
       "      <td>3</td>\n",
       "      <td>0</td>\n",
       "      <td>48</td>\n",
       "      <td>...</td>\n",
       "      <td>3</td>\n",
       "      <td>4</td>\n",
       "      <td>0</td>\n",
       "      <td>13</td>\n",
       "      <td>2</td>\n",
       "      <td>3</td>\n",
       "      <td>6</td>\n",
       "      <td>1</td>\n",
       "      <td>0</td>\n",
       "      <td>5</td>\n",
       "    </tr>\n",
       "    <tr>\n",
       "      <th>25</th>\n",
       "      <td>38</td>\n",
       "      <td>0</td>\n",
       "      <td>1380</td>\n",
       "      <td>1</td>\n",
       "      <td>9</td>\n",
       "      <td>2</td>\n",
       "      <td>0</td>\n",
       "      <td>3</td>\n",
       "      <td>0</td>\n",
       "      <td>75</td>\n",
       "      <td>...</td>\n",
       "      <td>3</td>\n",
       "      <td>3</td>\n",
       "      <td>0</td>\n",
       "      <td>2</td>\n",
       "      <td>3</td>\n",
       "      <td>3</td>\n",
       "      <td>2</td>\n",
       "      <td>2</td>\n",
       "      <td>2</td>\n",
       "      <td>1</td>\n",
       "    </tr>\n",
       "  </tbody>\n",
       "</table>\n",
       "<p>5 rows × 30 columns</p>\n",
       "</div>"
      ],
      "text/plain": [
       "     Age  BusinessTravel  DailyRate  Department  DistanceFromHome  Education  \\\n",
       "8     28               1        791           1                 1          4   \n",
       "144   22               0       1294           1                 8          1   \n",
       "50    32               1        689           0                 9          2   \n",
       "226   59               0        326           0                 3          3   \n",
       "25    38               0       1380           1                 9          2   \n",
       "\n",
       "     EducationField  EnvironmentSatisfaction  Gender  HourlyRate  ...  \\\n",
       "8                 2                        4       1          44  ...   \n",
       "144               2                        3       0          79  ...   \n",
       "50                2                        4       1          35  ...   \n",
       "226               0                        3       0          48  ...   \n",
       "25                0                        3       0          75  ...   \n",
       "\n",
       "     PerformanceRating  RelationshipSatisfaction  StockOptionLevel  \\\n",
       "8                    3                         3                 0   \n",
       "144                  3                         3                 0   \n",
       "50                   3                         4                 3   \n",
       "226                  3                         4                 0   \n",
       "25                   3                         3                 0   \n",
       "\n",
       "     TotalWorkingYears  TrainingTimesLastYear  WorkLifeBalance  \\\n",
       "8                    5                      2                2   \n",
       "144                  1                      6                3   \n",
       "50                   9                      2                4   \n",
       "226                 13                      2                3   \n",
       "25                   2                      3                3   \n",
       "\n",
       "     YearsAtCompany  YearsInCurrentRole  YearsSinceLastPromotion  \\\n",
       "8                 4                   2                        0   \n",
       "144               1                   0                        0   \n",
       "50                8                   7                        0   \n",
       "226               6                   1                        0   \n",
       "25                2                   2                        2   \n",
       "\n",
       "     YearsWithCurrManager  \n",
       "8                       2  \n",
       "144                     0  \n",
       "50                      7  \n",
       "226                     5  \n",
       "25                      1  \n",
       "\n",
       "[5 rows x 30 columns]"
      ]
     },
     "execution_count": 59,
     "metadata": {},
     "output_type": "execute_result"
    }
   ],
   "source": [
    "X_test.sample(5)"
   ]
  },
  {
   "cell_type": "code",
   "execution_count": 20,
   "id": "2b435f39-e875-4ff0-98ee-ac4fcbc9c1c8",
   "metadata": {},
   "outputs": [
    {
     "data": {
      "text/plain": [
       "{'BusinessTravel': {'0': 'Travel_Rarely',\n",
       "  '1': 'Travel_Frequently',\n",
       "  '2': 'Non-Travel',\n",
       "  '3': None,\n",
       "  '4': None,\n",
       "  '5': None,\n",
       "  '6': None,\n",
       "  '7': None,\n",
       "  '8': None},\n",
       " 'Department': {'0': 'Sales',\n",
       "  '1': 'Research & Development',\n",
       "  '2': 'Human Resources',\n",
       "  '3': None,\n",
       "  '4': None,\n",
       "  '5': None,\n",
       "  '6': None,\n",
       "  '7': None,\n",
       "  '8': None},\n",
       " 'EducationField': {'0': 'Life Sciences',\n",
       "  '1': 'Other',\n",
       "  '2': 'Medical',\n",
       "  '3': 'Marketing',\n",
       "  '4': 'Technical Degree',\n",
       "  '5': 'Human Resources',\n",
       "  '6': None,\n",
       "  '7': None,\n",
       "  '8': None},\n",
       " 'Gender': {'0': 'Female',\n",
       "  '1': 'Male',\n",
       "  '2': None,\n",
       "  '3': None,\n",
       "  '4': None,\n",
       "  '5': None,\n",
       "  '6': None,\n",
       "  '7': None,\n",
       "  '8': None},\n",
       " 'JobRole': {'0': 'Sales Executive',\n",
       "  '1': 'Research Scientist',\n",
       "  '2': 'Laboratory Technician',\n",
       "  '3': 'Manufacturing Director',\n",
       "  '4': 'Healthcare Representative',\n",
       "  '5': 'Manager',\n",
       "  '6': 'Sales Representative',\n",
       "  '7': 'Research Director',\n",
       "  '8': 'Human Resources'},\n",
       " 'MaritalStatus': {'0': 'Single',\n",
       "  '1': 'Married',\n",
       "  '2': 'Divorced',\n",
       "  '3': None,\n",
       "  '4': None,\n",
       "  '5': None,\n",
       "  '6': None,\n",
       "  '7': None,\n",
       "  '8': None}}"
      ]
     },
     "execution_count": 20,
     "metadata": {},
     "output_type": "execute_result"
    }
   ],
   "source": [
    "raw_map"
   ]
  },
  {
   "cell_type": "code",
   "execution_count": 29,
   "id": "19621e37-4d05-4c7f-ae34-3f2296d687d7",
   "metadata": {},
   "outputs": [],
   "source": [
    "map = {}\n",
    "for feature in raw_map.keys():\n",
    "    map.update({feature: {value: int(key) for key, value in raw_map[feature].items() if value is not None}}) # Reverse key and value for easy retrieval"
   ]
  },
  {
   "cell_type": "code",
   "execution_count": 30,
   "id": "9f1a9eb3-2b19-4341-a159-5a9920e800e2",
   "metadata": {},
   "outputs": [
    {
     "data": {
      "text/plain": [
       "{'BusinessTravel': {'Travel_Rarely': 0,\n",
       "  'Travel_Frequently': 1,\n",
       "  'Non-Travel': 2},\n",
       " 'Department': {'Sales': 0, 'Research & Development': 1, 'Human Resources': 2},\n",
       " 'EducationField': {'Life Sciences': 0,\n",
       "  'Other': 1,\n",
       "  'Medical': 2,\n",
       "  'Marketing': 3,\n",
       "  'Technical Degree': 4,\n",
       "  'Human Resources': 5},\n",
       " 'Gender': {'Female': 0, 'Male': 1},\n",
       " 'JobRole': {'Sales Executive': 0,\n",
       "  'Research Scientist': 1,\n",
       "  'Laboratory Technician': 2,\n",
       "  'Manufacturing Director': 3,\n",
       "  'Healthcare Representative': 4,\n",
       "  'Manager': 5,\n",
       "  'Sales Representative': 6,\n",
       "  'Research Director': 7,\n",
       "  'Human Resources': 8},\n",
       " 'MaritalStatus': {'Single': 0, 'Married': 1, 'Divorced': 2}}"
      ]
     },
     "execution_count": 30,
     "metadata": {},
     "output_type": "execute_result"
    }
   ],
   "source": [
    "map"
   ]
  },
  {
   "cell_type": "markdown",
   "id": "9ac1cb2a-c615-479e-b96c-1c82250b9ad7",
   "metadata": {},
   "source": [
    "I probably should have exported the mappings in this fashion, but in order to keep the integrity of the training/test split for reproducibility from source, I will just reformat the dict when needed."
   ]
  },
  {
   "cell_type": "markdown",
   "id": "148f8f4f-15f8-43d0-9247-40075bc4b23a",
   "metadata": {},
   "source": [
    "## Trying the model with a manual input"
   ]
  },
  {
   "cell_type": "code",
   "execution_count": 45,
   "id": "13042b95-3714-4320-aa67-46d2c3595917",
   "metadata": {},
   "outputs": [
    {
     "name": "stdout",
     "output_type": "stream",
     "text": [
      "int64 \t Age\n",
      "mapped \t BusinessTravel\n",
      "int64 \t DailyRate\n",
      "mapped \t Department\n",
      "int64 \t DistanceFromHome\n",
      "int64 \t Education\n",
      "mapped \t EducationField\n",
      "int64 \t EnvironmentSatisfaction\n",
      "mapped \t Gender\n",
      "int64 \t HourlyRate\n",
      "int64 \t JobInvolvement\n",
      "int64 \t JobLevel\n",
      "mapped \t JobRole\n",
      "int64 \t JobSatisfaction\n",
      "mapped \t MaritalStatus\n",
      "int64 \t MonthlyIncome\n",
      "int64 \t MonthlyRate\n",
      "int64 \t NumCompaniesWorked\n",
      "bool \t OverTime\n",
      "int64 \t PercentSalaryHike\n",
      "int64 \t PerformanceRating\n",
      "int64 \t RelationshipSatisfaction\n",
      "int64 \t StockOptionLevel\n",
      "int64 \t TotalWorkingYears\n",
      "int64 \t TrainingTimesLastYear\n",
      "int64 \t WorkLifeBalance\n",
      "int64 \t YearsAtCompany\n",
      "int64 \t YearsInCurrentRole\n",
      "int64 \t YearsSinceLastPromotion\n",
      "int64 \t YearsWithCurrManager\n"
     ]
    }
   ],
   "source": [
    "for column in X_test:\n",
    "    if column in map.keys():\n",
    "        print('mapped', '\\t', column)\n",
    "    else:\n",
    "        print(X_test[column].dtype, '\\t', column)"
   ]
  },
  {
   "cell_type": "code",
   "execution_count": 133,
   "id": "34dc523a-d6b8-4b7f-9ec0-ba9f0c49f58b",
   "metadata": {},
   "outputs": [],
   "source": [
    "u_input = pd.Series({\n",
    "    'Age': 22,                              # int64\n",
    "    'BusinessTravel': 'Non-Travel',         # mapped\n",
    "    'DailyRate': 100,                       # int64\n",
    "    'Department': 'Research & Development', # mapped\n",
    "    'DistanceFromHome': 18,                 # int64\n",
    "    'Education': 2,                         # int64\n",
    "    'EducationField': 'Technical Degree',   # mapped\n",
    "    'EnvironmentSatisfaction': 3,           # int64\n",
    "    'Gender': 'Male',                       # mapped\n",
    "    'HourlyRate': 25,                       # int64\n",
    "    'JobInvolvement': 4,                    # int64\n",
    "    'JobLevel': 1,                          # int64\n",
    "    'JobRole': 'Laboratory Technician',     # mapped\n",
    "    'JobSatisfaction': 3,                   # int64\n",
    "    'MaritalStatus': 'Single',              # mapped\n",
    "    'MonthlyIncome': 5238,                  # int64\n",
    "    'MonthlyRate': 14812,                   # int64\n",
    "    'NumCompaniesWorked': 3,                # int64\n",
    "    'OverTime': False,                      # bool\n",
    "    'PercentSalaryHike': 11,                # int64\n",
    "    'PerformanceRating': 4,                 # int64\n",
    "    'RelationshipSatisfaction': 3,          # int64\n",
    "    'StockOptionLevel': 0,                  # int64\n",
    "    'TotalWorkingYears': 6,                 # int64\n",
    "    'TrainingTimesLastYear': 2,             # int64\n",
    "    'WorkLifeBalance': 3,                   # int64\n",
    "    'YearsAtCompany': 2,                    # int64\n",
    "    'YearsInCurrentRole': 2,                # int64\n",
    "    'YearsSinceLastPromotion': 2,           # int64\n",
    "    'YearsWithCurrManager': 2               # int64\n",
    "})"
   ]
  },
  {
   "cell_type": "code",
   "execution_count": 50,
   "id": "8e1dc226-6f83-4357-bcb4-011a71def2c8",
   "metadata": {},
   "outputs": [
    {
     "data": {
      "text/plain": [
       "(1, 5)"
      ]
     },
     "execution_count": 50,
     "metadata": {},
     "output_type": "execute_result"
    }
   ],
   "source": [
    "X_test['Education'].min(), X_test['Education'].max()"
   ]
  },
  {
   "cell_type": "code",
   "execution_count": 51,
   "id": "b9800aa4-2008-4cca-9e4f-4d05abfb6394",
   "metadata": {},
   "outputs": [
    {
     "data": {
      "text/plain": [
       "(1, 4)"
      ]
     },
     "execution_count": 51,
     "metadata": {},
     "output_type": "execute_result"
    }
   ],
   "source": [
    "X_test['EnvironmentSatisfaction'].min(), X_test['EnvironmentSatisfaction'].max()"
   ]
  },
  {
   "cell_type": "code",
   "execution_count": 52,
   "id": "ca08a7c7-ad17-426e-8065-8af36fafb961",
   "metadata": {},
   "outputs": [
    {
     "data": {
      "text/plain": [
       "(1, 4)"
      ]
     },
     "execution_count": 52,
     "metadata": {},
     "output_type": "execute_result"
    }
   ],
   "source": [
    "X_test['JobInvolvement'].min(), X_test['JobInvolvement'].max()"
   ]
  },
  {
   "cell_type": "code",
   "execution_count": 53,
   "id": "345b6d4d-1089-4193-b01d-caabdd23fc50",
   "metadata": {},
   "outputs": [
    {
     "data": {
      "text/plain": [
       "(1, 5)"
      ]
     },
     "execution_count": 53,
     "metadata": {},
     "output_type": "execute_result"
    }
   ],
   "source": [
    "X_test['JobLevel'].min(), X_test['JobLevel'].max()"
   ]
  },
  {
   "cell_type": "code",
   "execution_count": 54,
   "id": "81425615-54c7-4d41-8381-78298b69a3e0",
   "metadata": {},
   "outputs": [
    {
     "data": {
      "text/plain": [
       "(1, 4)"
      ]
     },
     "execution_count": 54,
     "metadata": {},
     "output_type": "execute_result"
    }
   ],
   "source": [
    "X_test['JobSatisfaction'].min(), X_test['JobSatisfaction'].max()"
   ]
  },
  {
   "cell_type": "code",
   "execution_count": 72,
   "id": "885efc8c-4471-4a00-8555-324d97806ad1",
   "metadata": {},
   "outputs": [
    {
     "data": {
      "text/plain": [
       "(1052, 19701, '5238')"
      ]
     },
     "execution_count": 72,
     "metadata": {},
     "output_type": "execute_result"
    }
   ],
   "source": [
    "X_test['MonthlyIncome'].min(), X_test['MonthlyIncome'].max(), '%0.0f' % X_test['MonthlyIncome'].median()"
   ]
  },
  {
   "cell_type": "code",
   "execution_count": 71,
   "id": "7127abd2-05b4-4eeb-89d1-339acf64d5b3",
   "metadata": {},
   "outputs": [
    {
     "data": {
      "text/plain": [
       "(2094, 26959, '14812')"
      ]
     },
     "execution_count": 71,
     "metadata": {},
     "output_type": "execute_result"
    }
   ],
   "source": [
    "X_test['MonthlyRate'].min(), X_test['MonthlyRate'].max(), '%0.0f' % X_test['MonthlyRate'].median()"
   ]
  },
  {
   "cell_type": "code",
   "execution_count": 73,
   "id": "a10efe5e-06ad-4ea4-8fff-b3d97d906b57",
   "metadata": {},
   "outputs": [
    {
     "data": {
      "text/plain": [
       "(1, 10)"
      ]
     },
     "execution_count": 73,
     "metadata": {},
     "output_type": "execute_result"
    }
   ],
   "source": [
    "X_test['NumCompaniesWorked'].min(), X_test['NumCompaniesWorked'].max()"
   ]
  },
  {
   "cell_type": "code",
   "execution_count": 74,
   "id": "6d11c173-f593-4273-a7cf-3e08f3dfa2dc",
   "metadata": {},
   "outputs": [
    {
     "data": {
      "text/plain": [
       "(11, 25)"
      ]
     },
     "execution_count": 74,
     "metadata": {},
     "output_type": "execute_result"
    }
   ],
   "source": [
    "X_test['PercentSalaryHike'].min(), X_test['PercentSalaryHike'].max()"
   ]
  },
  {
   "cell_type": "code",
   "execution_count": 75,
   "id": "299d22b6-9567-405d-939b-881d4ba3abbc",
   "metadata": {},
   "outputs": [
    {
     "data": {
      "text/plain": [
       "(3, 4)"
      ]
     },
     "execution_count": 75,
     "metadata": {},
     "output_type": "execute_result"
    }
   ],
   "source": [
    "X_test['PerformanceRating'].min(), X_test['PerformanceRating'].max()"
   ]
  },
  {
   "cell_type": "code",
   "execution_count": 76,
   "id": "643355c7-a0c7-456c-a9cd-70cba6e5ff96",
   "metadata": {},
   "outputs": [
    {
     "data": {
      "text/plain": [
       "(1, 4)"
      ]
     },
     "execution_count": 76,
     "metadata": {},
     "output_type": "execute_result"
    }
   ],
   "source": [
    "X_test['RelationshipSatisfaction'].min(), X_test['RelationshipSatisfaction'].max()"
   ]
  },
  {
   "cell_type": "code",
   "execution_count": 77,
   "id": "f10760a6-3ab2-47dc-905d-b5c3573c4d67",
   "metadata": {},
   "outputs": [
    {
     "data": {
      "text/plain": [
       "(0, 3)"
      ]
     },
     "execution_count": 77,
     "metadata": {},
     "output_type": "execute_result"
    }
   ],
   "source": [
    "X_test['StockOptionLevel'].min(), X_test['StockOptionLevel'].max()"
   ]
  },
  {
   "cell_type": "code",
   "execution_count": 80,
   "id": "0ab51d46-5543-44a4-837c-38d6d5d0bc48",
   "metadata": {},
   "outputs": [
    {
     "data": {
      "text/plain": [
       "(0, 6)"
      ]
     },
     "execution_count": 80,
     "metadata": {},
     "output_type": "execute_result"
    }
   ],
   "source": [
    "X_test['TrainingTimesLastYear'].min(), X_test['TrainingTimesLastYear'].max()"
   ]
  },
  {
   "cell_type": "code",
   "execution_count": 81,
   "id": "a44d6569-f8fe-48ea-9340-7d93116028f0",
   "metadata": {},
   "outputs": [
    {
     "data": {
      "text/plain": [
       "(1, 4)"
      ]
     },
     "execution_count": 81,
     "metadata": {},
     "output_type": "execute_result"
    }
   ],
   "source": [
    "X_test['WorkLifeBalance'].min(), X_test['WorkLifeBalance'].max()"
   ]
  },
  {
   "cell_type": "code",
   "execution_count": 82,
   "id": "85348f16-1270-4b68-a223-efb32346e4b2",
   "metadata": {},
   "outputs": [
    {
     "data": {
      "text/plain": [
       "(0, 15)"
      ]
     },
     "execution_count": 82,
     "metadata": {},
     "output_type": "execute_result"
    }
   ],
   "source": [
    "X_test['YearsSinceLastPromotion'].min(), X_test['YearsSinceLastPromotion'].max()"
   ]
  },
  {
   "cell_type": "code",
   "execution_count": 134,
   "id": "ed34255a-7681-4d35-833c-7b31a12c2fc2",
   "metadata": {},
   "outputs": [
    {
     "data": {
      "text/plain": [
       "Age                                             22\n",
       "BusinessTravel                          Non-Travel\n",
       "DailyRate                                      100\n",
       "Department                  Research & Development\n",
       "DistanceFromHome                                18\n",
       "Education                                        2\n",
       "EducationField                    Technical Degree\n",
       "EnvironmentSatisfaction                          3\n",
       "Gender                                        Male\n",
       "HourlyRate                                      25\n",
       "JobInvolvement                                   4\n",
       "JobLevel                                         1\n",
       "JobRole                      Laboratory Technician\n",
       "JobSatisfaction                                  3\n",
       "MaritalStatus                               Single\n",
       "MonthlyIncome                                 5238\n",
       "MonthlyRate                                  14812\n",
       "NumCompaniesWorked                               3\n",
       "OverTime                                     False\n",
       "PercentSalaryHike                               11\n",
       "PerformanceRating                                4\n",
       "RelationshipSatisfaction                         3\n",
       "StockOptionLevel                                 0\n",
       "TotalWorkingYears                                6\n",
       "TrainingTimesLastYear                            2\n",
       "WorkLifeBalance                                  3\n",
       "YearsAtCompany                                   2\n",
       "YearsInCurrentRole                               2\n",
       "YearsSinceLastPromotion                          2\n",
       "YearsWithCurrManager                             2\n",
       "dtype: object"
      ]
     },
     "execution_count": 134,
     "metadata": {},
     "output_type": "execute_result"
    }
   ],
   "source": [
    "u_input"
   ]
  },
  {
   "cell_type": "code",
   "execution_count": 135,
   "id": "ba8224a9-89da-4b2f-9dc1-361aeaa69407",
   "metadata": {},
   "outputs": [],
   "source": [
    "def convert_mappings(input_series):\n",
    "    out = pd.Series()\n",
    "    for feature in input_series.keys():\n",
    "        if feature in map:\n",
    "            out[feature] = map[feature][input_series[feature]]\n",
    "        else:\n",
    "            out[feature] = input_series[feature]\n",
    "    return out"
   ]
  },
  {
   "cell_type": "code",
   "execution_count": 136,
   "id": "e491febc-240d-4fa6-ab57-5c3f52d4bb9c",
   "metadata": {},
   "outputs": [
    {
     "data": {
      "text/html": [
       "<div>\n",
       "<style scoped>\n",
       "    .dataframe tbody tr th:only-of-type {\n",
       "        vertical-align: middle;\n",
       "    }\n",
       "\n",
       "    .dataframe tbody tr th {\n",
       "        vertical-align: top;\n",
       "    }\n",
       "\n",
       "    .dataframe thead th {\n",
       "        text-align: right;\n",
       "    }\n",
       "</style>\n",
       "<table border=\"1\" class=\"dataframe\">\n",
       "  <thead>\n",
       "    <tr style=\"text-align: right;\">\n",
       "      <th></th>\n",
       "      <th>Age</th>\n",
       "      <th>BusinessTravel</th>\n",
       "      <th>DailyRate</th>\n",
       "      <th>Department</th>\n",
       "      <th>DistanceFromHome</th>\n",
       "      <th>Education</th>\n",
       "      <th>EducationField</th>\n",
       "      <th>EnvironmentSatisfaction</th>\n",
       "      <th>Gender</th>\n",
       "      <th>HourlyRate</th>\n",
       "      <th>...</th>\n",
       "      <th>PerformanceRating</th>\n",
       "      <th>RelationshipSatisfaction</th>\n",
       "      <th>StockOptionLevel</th>\n",
       "      <th>TotalWorkingYears</th>\n",
       "      <th>TrainingTimesLastYear</th>\n",
       "      <th>WorkLifeBalance</th>\n",
       "      <th>YearsAtCompany</th>\n",
       "      <th>YearsInCurrentRole</th>\n",
       "      <th>YearsSinceLastPromotion</th>\n",
       "      <th>YearsWithCurrManager</th>\n",
       "    </tr>\n",
       "  </thead>\n",
       "  <tbody>\n",
       "    <tr>\n",
       "      <th>0</th>\n",
       "      <td>22</td>\n",
       "      <td>2</td>\n",
       "      <td>100</td>\n",
       "      <td>1</td>\n",
       "      <td>18</td>\n",
       "      <td>2</td>\n",
       "      <td>4</td>\n",
       "      <td>3</td>\n",
       "      <td>1</td>\n",
       "      <td>25</td>\n",
       "      <td>...</td>\n",
       "      <td>4</td>\n",
       "      <td>3</td>\n",
       "      <td>0</td>\n",
       "      <td>6</td>\n",
       "      <td>2</td>\n",
       "      <td>3</td>\n",
       "      <td>2</td>\n",
       "      <td>2</td>\n",
       "      <td>2</td>\n",
       "      <td>2</td>\n",
       "    </tr>\n",
       "  </tbody>\n",
       "</table>\n",
       "<p>1 rows × 30 columns</p>\n",
       "</div>"
      ],
      "text/plain": [
       "  Age BusinessTravel DailyRate Department DistanceFromHome Education  \\\n",
       "0  22              2       100          1               18         2   \n",
       "\n",
       "  EducationField EnvironmentSatisfaction Gender HourlyRate  ...  \\\n",
       "0              4                       3      1         25  ...   \n",
       "\n",
       "  PerformanceRating RelationshipSatisfaction StockOptionLevel  \\\n",
       "0                 4                        3                0   \n",
       "\n",
       "  TotalWorkingYears TrainingTimesLastYear WorkLifeBalance YearsAtCompany  \\\n",
       "0                 6                     2               3              2   \n",
       "\n",
       "  YearsInCurrentRole YearsSinceLastPromotion YearsWithCurrManager  \n",
       "0                  2                       2                    2  \n",
       "\n",
       "[1 rows x 30 columns]"
      ]
     },
     "execution_count": 136,
     "metadata": {},
     "output_type": "execute_result"
    }
   ],
   "source": [
    "input = pd.DataFrame(convert_mappings(u_input)).transpose()\n",
    "input"
   ]
  },
  {
   "cell_type": "code",
   "execution_count": 137,
   "id": "2e4db3db-b46a-4668-82aa-5a18899e6ea6",
   "metadata": {},
   "outputs": [
    {
     "name": "stdout",
     "output_type": "stream",
     "text": [
      "Proba of False: 0.87% \n",
      "Proba of True: 0.13% \n",
      "Prediction: False\n"
     ]
    }
   ],
   "source": [
    "y_prob = clf.predict_proba(input)\n",
    "print(f'Proba of False: {y_prob[0, 0]:.2f}% \\nProba of True: {y_prob[0, 1]:.2f}% \\nPrediction: {clf.predict(input).squeeze()}')"
   ]
  },
  {
   "cell_type": "markdown",
   "id": "7ab71504-bdc2-4793-8a0f-f14d76c9dbe7",
   "metadata": {},
   "source": [
    "Great. It works! Time to make widget inputs for the user to use.\n",
    "\n",
    "P.S. This sample input is roughly based on myself."
   ]
  },
  {
   "cell_type": "markdown",
   "id": "6b7ccb3d-9b84-41b0-8412-e531d1d917bc",
   "metadata": {},
   "source": [
    "## UI Creation"
   ]
  },
  {
   "cell_type": "code",
   "execution_count": 235,
   "id": "f57e3f3b-53d8-463a-a6f3-b21991a6a11d",
   "metadata": {},
   "outputs": [],
   "source": [
    "import ipywidgets as widgets\n",
    "from IPython.display import display\n",
    "from ipywidgets import Layout"
   ]
  },
  {
   "cell_type": "code",
   "execution_count": 158,
   "id": "05d323ee-5521-4897-b4d3-bab86054d424",
   "metadata": {},
   "outputs": [
    {
     "data": {
      "application/vnd.jupyter.widget-view+json": {
       "model_id": "fbb3f496e2e543e9a31a05b2b7bb7021",
       "version_major": 2,
       "version_minor": 0
      },
      "text/plain": [
       "VBox(children=(IntSlider(value=0, description='Value:'), HBox(children=(HTML(value='<div style=\"background:red…"
      ]
     },
     "metadata": {},
     "output_type": "display_data"
    }
   ],
   "source": [
    "# Make a simple slider widget display to reference when using model\n",
    "slider = widgets.IntSlider(description='Value:', min=0, max=100)\n",
    "bar = widgets.HTML(value='', layout=widgets.Layout(width='0.3%', height='60px', background='red'))\n",
    "bar_label = widgets.Label(value='0% likely to leave the company')\n",
    "bar.value = '<div style=\"background:red; height: 60px; width: 100%\"></div>'\n",
    "\n",
    "def update_bar(change):\n",
    "    value = change['new']\n",
    "    bar.layout.width = f'{value * 0.8 + 0.3}%'\n",
    "    bar_label.value = f'{value}% likely to leave the company'\n",
    "\n",
    "slider.observe(update_bar, names='value')\n",
    "\n",
    "display(widgets.VBox([slider, widgets.HBox([bar, bar_label])]))"
   ]
  },
  {
   "cell_type": "code",
   "execution_count": 195,
   "id": "620a7a55-008f-42d0-8708-41051a402fa1",
   "metadata": {},
   "outputs": [
    {
     "data": {
      "application/vnd.jupyter.widget-view+json": {
       "model_id": "b7dd38d0c581433ebe4b8fafd416efb6",
       "version_major": 2,
       "version_minor": 0
      },
      "text/plain": [
       "IntSlider(value=0, description='Value:')"
      ]
     },
     "metadata": {},
     "output_type": "display_data"
    },
    {
     "data": {
      "application/vnd.jupyter.widget-view+json": {
       "model_id": "d76ae804eafc429181d640b77a394bca",
       "version_major": 2,
       "version_minor": 0
      },
      "text/plain": [
       "HBox(children=(FloatProgress(value=0.0, bar_style='danger', description='Probability:', style=ProgressStyle(ba…"
      ]
     },
     "metadata": {},
     "output_type": "display_data"
    }
   ],
   "source": [
    "# Recreate the above but with a floatProgress bar instead.\n",
    "# Also, clean it up to scale it.\n",
    "bar = widgets.FloatProgress(value=0.0, \n",
    "                            min=0.0, \n",
    "                            max=100.0, \n",
    "                            description='Probability:', \n",
    "                            bar_style='danger',\n",
    "                            style={'bar_color': 'red'})\n",
    "bar_label = widgets.Label(value='0% likely to leave the company')\n",
    "\n",
    "all_inputs = []\n",
    "slider = widgets.IntSlider(description='Value:', min=0, max=100)\n",
    "all_inputs.append(slider)\n",
    "\n",
    "def update_bar():\n",
    "    value = slider.get_interact_value()\n",
    "    bar.value = value\n",
    "    bar_label.value = f'{value}% likely to leave the company'\n",
    "\n",
    "slider.on_trait_change(update_bar)\n",
    "\n",
    "display(*all_inputs, widgets.HBox([bar, bar_label]))"
   ]
  },
  {
   "cell_type": "code",
   "execution_count": 206,
   "id": "1ffb7145-5389-403c-b3d0-0870c66edbbd",
   "metadata": {},
   "outputs": [
    {
     "data": {
      "text/html": [
       "<div>\n",
       "<style scoped>\n",
       "    .dataframe tbody tr th:only-of-type {\n",
       "        vertical-align: middle;\n",
       "    }\n",
       "\n",
       "    .dataframe tbody tr th {\n",
       "        vertical-align: top;\n",
       "    }\n",
       "\n",
       "    .dataframe thead th {\n",
       "        text-align: right;\n",
       "    }\n",
       "</style>\n",
       "<table border=\"1\" class=\"dataframe\">\n",
       "  <thead>\n",
       "    <tr style=\"text-align: right;\">\n",
       "      <th></th>\n",
       "      <th>Age</th>\n",
       "      <th>Attrition</th>\n",
       "      <th>BusinessTravel</th>\n",
       "      <th>DailyRate</th>\n",
       "      <th>Department</th>\n",
       "      <th>DistanceFromHome</th>\n",
       "      <th>Education</th>\n",
       "      <th>EducationField</th>\n",
       "      <th>EnvironmentSatisfaction</th>\n",
       "      <th>Gender</th>\n",
       "      <th>...</th>\n",
       "      <th>PerformanceRating</th>\n",
       "      <th>RelationshipSatisfaction</th>\n",
       "      <th>StockOptionLevel</th>\n",
       "      <th>TotalWorkingYears</th>\n",
       "      <th>TrainingTimesLastYear</th>\n",
       "      <th>WorkLifeBalance</th>\n",
       "      <th>YearsAtCompany</th>\n",
       "      <th>YearsInCurrentRole</th>\n",
       "      <th>YearsSinceLastPromotion</th>\n",
       "      <th>YearsWithCurrManager</th>\n",
       "    </tr>\n",
       "  </thead>\n",
       "  <tbody>\n",
       "    <tr>\n",
       "      <th>0</th>\n",
       "      <td>41</td>\n",
       "      <td>True</td>\n",
       "      <td>0</td>\n",
       "      <td>1102</td>\n",
       "      <td>0</td>\n",
       "      <td>1</td>\n",
       "      <td>2</td>\n",
       "      <td>0</td>\n",
       "      <td>2</td>\n",
       "      <td>0</td>\n",
       "      <td>...</td>\n",
       "      <td>3</td>\n",
       "      <td>1</td>\n",
       "      <td>0</td>\n",
       "      <td>8</td>\n",
       "      <td>0</td>\n",
       "      <td>1</td>\n",
       "      <td>6</td>\n",
       "      <td>4</td>\n",
       "      <td>0</td>\n",
       "      <td>5</td>\n",
       "    </tr>\n",
       "    <tr>\n",
       "      <th>1</th>\n",
       "      <td>49</td>\n",
       "      <td>False</td>\n",
       "      <td>1</td>\n",
       "      <td>279</td>\n",
       "      <td>1</td>\n",
       "      <td>8</td>\n",
       "      <td>1</td>\n",
       "      <td>0</td>\n",
       "      <td>3</td>\n",
       "      <td>1</td>\n",
       "      <td>...</td>\n",
       "      <td>4</td>\n",
       "      <td>4</td>\n",
       "      <td>1</td>\n",
       "      <td>10</td>\n",
       "      <td>3</td>\n",
       "      <td>3</td>\n",
       "      <td>10</td>\n",
       "      <td>7</td>\n",
       "      <td>1</td>\n",
       "      <td>7</td>\n",
       "    </tr>\n",
       "    <tr>\n",
       "      <th>2</th>\n",
       "      <td>37</td>\n",
       "      <td>True</td>\n",
       "      <td>0</td>\n",
       "      <td>1373</td>\n",
       "      <td>1</td>\n",
       "      <td>2</td>\n",
       "      <td>2</td>\n",
       "      <td>1</td>\n",
       "      <td>4</td>\n",
       "      <td>1</td>\n",
       "      <td>...</td>\n",
       "      <td>3</td>\n",
       "      <td>2</td>\n",
       "      <td>0</td>\n",
       "      <td>7</td>\n",
       "      <td>3</td>\n",
       "      <td>3</td>\n",
       "      <td>0</td>\n",
       "      <td>0</td>\n",
       "      <td>0</td>\n",
       "      <td>0</td>\n",
       "    </tr>\n",
       "    <tr>\n",
       "      <th>3</th>\n",
       "      <td>33</td>\n",
       "      <td>False</td>\n",
       "      <td>1</td>\n",
       "      <td>1392</td>\n",
       "      <td>1</td>\n",
       "      <td>3</td>\n",
       "      <td>4</td>\n",
       "      <td>0</td>\n",
       "      <td>4</td>\n",
       "      <td>0</td>\n",
       "      <td>...</td>\n",
       "      <td>3</td>\n",
       "      <td>3</td>\n",
       "      <td>0</td>\n",
       "      <td>8</td>\n",
       "      <td>3</td>\n",
       "      <td>3</td>\n",
       "      <td>8</td>\n",
       "      <td>7</td>\n",
       "      <td>3</td>\n",
       "      <td>0</td>\n",
       "    </tr>\n",
       "    <tr>\n",
       "      <th>4</th>\n",
       "      <td>27</td>\n",
       "      <td>False</td>\n",
       "      <td>0</td>\n",
       "      <td>591</td>\n",
       "      <td>1</td>\n",
       "      <td>2</td>\n",
       "      <td>1</td>\n",
       "      <td>2</td>\n",
       "      <td>1</td>\n",
       "      <td>1</td>\n",
       "      <td>...</td>\n",
       "      <td>3</td>\n",
       "      <td>4</td>\n",
       "      <td>1</td>\n",
       "      <td>6</td>\n",
       "      <td>3</td>\n",
       "      <td>3</td>\n",
       "      <td>2</td>\n",
       "      <td>2</td>\n",
       "      <td>2</td>\n",
       "      <td>2</td>\n",
       "    </tr>\n",
       "  </tbody>\n",
       "</table>\n",
       "<p>5 rows × 31 columns</p>\n",
       "</div>"
      ],
      "text/plain": [
       "   Age  Attrition  BusinessTravel  DailyRate  Department  DistanceFromHome  \\\n",
       "0   41       True               0       1102           0                 1   \n",
       "1   49      False               1        279           1                 8   \n",
       "2   37       True               0       1373           1                 2   \n",
       "3   33      False               1       1392           1                 3   \n",
       "4   27      False               0        591           1                 2   \n",
       "\n",
       "   Education  EducationField  EnvironmentSatisfaction  Gender  ...  \\\n",
       "0          2               0                        2       0  ...   \n",
       "1          1               0                        3       1  ...   \n",
       "2          2               1                        4       1  ...   \n",
       "3          4               0                        4       0  ...   \n",
       "4          1               2                        1       1  ...   \n",
       "\n",
       "   PerformanceRating  RelationshipSatisfaction  StockOptionLevel  \\\n",
       "0                  3                         1                 0   \n",
       "1                  4                         4                 1   \n",
       "2                  3                         2                 0   \n",
       "3                  3                         3                 0   \n",
       "4                  3                         4                 1   \n",
       "\n",
       "   TotalWorkingYears  TrainingTimesLastYear  WorkLifeBalance  YearsAtCompany  \\\n",
       "0                  8                      0                1               6   \n",
       "1                 10                      3                3              10   \n",
       "2                  7                      3                3               0   \n",
       "3                  8                      3                3               8   \n",
       "4                  6                      3                3               2   \n",
       "\n",
       "   YearsInCurrentRole  YearsSinceLastPromotion  YearsWithCurrManager  \n",
       "0                   4                        0                     5  \n",
       "1                   7                        1                     7  \n",
       "2                   0                        0                     0  \n",
       "3                   7                        3                     0  \n",
       "4                   2                        2                     2  \n",
       "\n",
       "[5 rows x 31 columns]"
      ]
     },
     "execution_count": 206,
     "metadata": {},
     "output_type": "execute_result"
    }
   ],
   "source": [
    "X = pd.read_csv('../data/ibm_hr_analytics_cleaned.csv')\n",
    "X.head()"
   ]
  },
  {
   "cell_type": "code",
   "execution_count": 290,
   "id": "4905ae93-7f76-4eeb-98da-96331f1d6a43",
   "metadata": {},
   "outputs": [
    {
     "data": {
      "application/vnd.jupyter.widget-view+json": {
       "model_id": "b7aa43b498d944549c92aa234c579393",
       "version_major": 2,
       "version_minor": 0
      },
      "text/plain": [
       "IntSlider(value=36, description='Age', layout=Layout(width='50%'), max=60, min=18, style=SliderStyle(descripti…"
      ]
     },
     "metadata": {},
     "output_type": "display_data"
    },
    {
     "data": {
      "application/vnd.jupyter.widget-view+json": {
       "model_id": "75d5dc28c78547d9884f03f2253fa7b6",
       "version_major": 2,
       "version_minor": 0
      },
      "text/plain": [
       "Dropdown(description='BusinessTravel', layout=Layout(width='50%'), options={'Travel_Rarely': 0, 'Travel_Freque…"
      ]
     },
     "metadata": {},
     "output_type": "display_data"
    },
    {
     "data": {
      "application/vnd.jupyter.widget-view+json": {
       "model_id": "c17244fe79f946f6a2f0646888483265",
       "version_major": 2,
       "version_minor": 0
      },
      "text/plain": [
       "IntSlider(value=802, description='DailyRate', layout=Layout(width='50%'), max=1499, min=102, style=SliderStyle…"
      ]
     },
     "metadata": {},
     "output_type": "display_data"
    },
    {
     "data": {
      "application/vnd.jupyter.widget-view+json": {
       "model_id": "5ef2b742ea644c40a10b8f3d86461280",
       "version_major": 2,
       "version_minor": 0
      },
      "text/plain": [
       "Dropdown(description='Department', layout=Layout(width='50%'), options={'Sales': 0, 'Research & Development': …"
      ]
     },
     "metadata": {},
     "output_type": "display_data"
    },
    {
     "data": {
      "application/vnd.jupyter.widget-view+json": {
       "model_id": "9062cc2382394ee398636fdba80bbe95",
       "version_major": 2,
       "version_minor": 0
      },
      "text/plain": [
       "IntSlider(value=7, description='DistanceFromHome', layout=Layout(width='50%'), max=29, min=1, style=SliderStyl…"
      ]
     },
     "metadata": {},
     "output_type": "display_data"
    },
    {
     "data": {
      "application/vnd.jupyter.widget-view+json": {
       "model_id": "8bed1f6ae05e44e28f914df3817f9626",
       "version_major": 2,
       "version_minor": 0
      },
      "text/plain": [
       "IntSlider(value=3, description='Education', layout=Layout(width='50%'), max=5, min=1, style=SliderStyle(descri…"
      ]
     },
     "metadata": {},
     "output_type": "display_data"
    },
    {
     "data": {
      "application/vnd.jupyter.widget-view+json": {
       "model_id": "e45f5c93966248bea814816fb44dc044",
       "version_major": 2,
       "version_minor": 0
      },
      "text/plain": [
       "Dropdown(description='EducationField', layout=Layout(width='50%'), options={'Life Sciences': 0, 'Other': 1, 'M…"
      ]
     },
     "metadata": {},
     "output_type": "display_data"
    },
    {
     "data": {
      "application/vnd.jupyter.widget-view+json": {
       "model_id": "c269d6ed891e41b28b0076888c130b19",
       "version_major": 2,
       "version_minor": 0
      },
      "text/plain": [
       "IntSlider(value=3, description='EnvironmentSatisfaction', layout=Layout(width='50%'), max=4, min=1, style=Slid…"
      ]
     },
     "metadata": {},
     "output_type": "display_data"
    },
    {
     "data": {
      "application/vnd.jupyter.widget-view+json": {
       "model_id": "59da8c21863e4e2096df6eddcc5253c0",
       "version_major": 2,
       "version_minor": 0
      },
      "text/plain": [
       "Dropdown(description='Gender', layout=Layout(width='50%'), options={'Female': 0, 'Male': 1}, style=Description…"
      ]
     },
     "metadata": {},
     "output_type": "display_data"
    },
    {
     "data": {
      "application/vnd.jupyter.widget-view+json": {
       "model_id": "c3238c6c7fc841768d3e803ba3402955",
       "version_major": 2,
       "version_minor": 0
      },
      "text/plain": [
       "IntSlider(value=66, description='HourlyRate', layout=Layout(width='50%'), min=30, style=SliderStyle(descriptio…"
      ]
     },
     "metadata": {},
     "output_type": "display_data"
    },
    {
     "data": {
      "application/vnd.jupyter.widget-view+json": {
       "model_id": "2865afb39c6e4cf9970b527666162a26",
       "version_major": 2,
       "version_minor": 0
      },
      "text/plain": [
       "IntSlider(value=3, description='JobInvolvement', layout=Layout(width='50%'), max=4, min=1, style=SliderStyle(d…"
      ]
     },
     "metadata": {},
     "output_type": "display_data"
    },
    {
     "data": {
      "application/vnd.jupyter.widget-view+json": {
       "model_id": "716a038d930b46b2b253ae4dd3cdcc57",
       "version_major": 2,
       "version_minor": 0
      },
      "text/plain": [
       "IntSlider(value=2, description='JobLevel', layout=Layout(width='50%'), max=5, min=1, style=SliderStyle(descrip…"
      ]
     },
     "metadata": {},
     "output_type": "display_data"
    },
    {
     "data": {
      "application/vnd.jupyter.widget-view+json": {
       "model_id": "e7476609186144d0bc15cc09d48dbb7e",
       "version_major": 2,
       "version_minor": 0
      },
      "text/plain": [
       "Dropdown(description='JobRole', layout=Layout(width='50%'), options={'Sales Executive': 0, 'Research Scientist…"
      ]
     },
     "metadata": {},
     "output_type": "display_data"
    },
    {
     "data": {
      "application/vnd.jupyter.widget-view+json": {
       "model_id": "713fdd1e6cd94e8f9bc77c07a9e0556b",
       "version_major": 2,
       "version_minor": 0
      },
      "text/plain": [
       "IntSlider(value=3, description='JobSatisfaction', layout=Layout(width='50%'), max=4, min=1, style=SliderStyle(…"
      ]
     },
     "metadata": {},
     "output_type": "display_data"
    },
    {
     "data": {
      "application/vnd.jupyter.widget-view+json": {
       "model_id": "85a32795ab614227b3d9d7d690f5cf2c",
       "version_major": 2,
       "version_minor": 0
      },
      "text/plain": [
       "Dropdown(description='MaritalStatus', layout=Layout(width='50%'), options={'Single': 0, 'Married': 1, 'Divorce…"
      ]
     },
     "metadata": {},
     "output_type": "display_data"
    },
    {
     "data": {
      "application/vnd.jupyter.widget-view+json": {
       "model_id": "18339c6065c0443587b8b505d320e05c",
       "version_major": 2,
       "version_minor": 0
      },
      "text/plain": [
       "IntSlider(value=4919, description='MonthlyIncome', layout=Layout(width='50%'), max=19999, min=1009, style=Slid…"
      ]
     },
     "metadata": {},
     "output_type": "display_data"
    },
    {
     "data": {
      "application/vnd.jupyter.widget-view+json": {
       "model_id": "da4993094692423bae0e5d16b40e06de",
       "version_major": 2,
       "version_minor": 0
      },
      "text/plain": [
       "IntSlider(value=14236, description='MonthlyRate', layout=Layout(width='50%'), max=26999, min=2094, style=Slide…"
      ]
     },
     "metadata": {},
     "output_type": "display_data"
    },
    {
     "data": {
      "application/vnd.jupyter.widget-view+json": {
       "model_id": "da6f6c82062941269a0b829cc29ca431",
       "version_major": 2,
       "version_minor": 0
      },
      "text/plain": [
       "IntSlider(value=3, description='NumCompaniesWorked', layout=Layout(width='50%'), max=10, min=1, style=SliderSt…"
      ]
     },
     "metadata": {},
     "output_type": "display_data"
    },
    {
     "data": {
      "application/vnd.jupyter.widget-view+json": {
       "model_id": "4297c1ead2b741d9b8206e0ce0d15faa",
       "version_major": 2,
       "version_minor": 0
      },
      "text/plain": [
       "Checkbox(value=False, description='Overtime', layout=Layout(width='50%'), style=CheckboxStyle(description_widt…"
      ]
     },
     "metadata": {},
     "output_type": "display_data"
    },
    {
     "data": {
      "application/vnd.jupyter.widget-view+json": {
       "model_id": "d89557bf7eb247d0bdc19d71ede81e8b",
       "version_major": 2,
       "version_minor": 0
      },
      "text/plain": [
       "IntSlider(value=14, description='PercentSalaryHike', layout=Layout(width='50%'), max=25, min=11, style=SliderS…"
      ]
     },
     "metadata": {},
     "output_type": "display_data"
    },
    {
     "data": {
      "application/vnd.jupyter.widget-view+json": {
       "model_id": "f493ccd152764fb0aa48536a92a56132",
       "version_major": 2,
       "version_minor": 0
      },
      "text/plain": [
       "IntSlider(value=3, description='PerformanceRating', layout=Layout(width='50%'), max=4, min=3, style=SliderStyl…"
      ]
     },
     "metadata": {},
     "output_type": "display_data"
    },
    {
     "data": {
      "application/vnd.jupyter.widget-view+json": {
       "model_id": "e3e877a902ac42f68f20f64d2193605f",
       "version_major": 2,
       "version_minor": 0
      },
      "text/plain": [
       "IntSlider(value=3, description='RelationshipSatisfaction', layout=Layout(width='50%'), max=4, min=1, style=Sli…"
      ]
     },
     "metadata": {},
     "output_type": "display_data"
    },
    {
     "data": {
      "application/vnd.jupyter.widget-view+json": {
       "model_id": "239ac1befe0040b18aaf82a39908ad88",
       "version_major": 2,
       "version_minor": 0
      },
      "text/plain": [
       "IntSlider(value=1, description='StockOptionLevel', layout=Layout(width='50%'), max=3, style=SliderStyle(descri…"
      ]
     },
     "metadata": {},
     "output_type": "display_data"
    },
    {
     "data": {
      "application/vnd.jupyter.widget-view+json": {
       "model_id": "caf9ff3775d8491eb4eea7b6845cabf3",
       "version_major": 2,
       "version_minor": 0
      },
      "text/plain": [
       "IntSlider(value=10, description='TotalWorkingYears', layout=Layout(width='50%'), max=40, style=SliderStyle(des…"
      ]
     },
     "metadata": {},
     "output_type": "display_data"
    },
    {
     "data": {
      "application/vnd.jupyter.widget-view+json": {
       "model_id": "3376c009c7114752996142b76f9e983b",
       "version_major": 2,
       "version_minor": 0
      },
      "text/plain": [
       "IntSlider(value=3, description='TrainingTimesLastYear', layout=Layout(width='50%'), max=6, style=SliderStyle(d…"
      ]
     },
     "metadata": {},
     "output_type": "display_data"
    },
    {
     "data": {
      "application/vnd.jupyter.widget-view+json": {
       "model_id": "5bc6a0ab90944fe9a878ea24ef5f241d",
       "version_major": 2,
       "version_minor": 0
      },
      "text/plain": [
       "IntSlider(value=3, description='WorkLifeBalance', layout=Layout(width='50%'), max=4, min=1, style=SliderStyle(…"
      ]
     },
     "metadata": {},
     "output_type": "display_data"
    },
    {
     "data": {
      "application/vnd.jupyter.widget-view+json": {
       "model_id": "9d0d1515e45641b1a69c3e61134d9c2c",
       "version_major": 2,
       "version_minor": 0
      },
      "text/plain": [
       "IntSlider(value=5, description='YearsAtCompany', layout=Layout(width='50%'), max=40, style=SliderStyle(descrip…"
      ]
     },
     "metadata": {},
     "output_type": "display_data"
    },
    {
     "data": {
      "application/vnd.jupyter.widget-view+json": {
       "model_id": "6bf3fc5828894f42b9587f635bcf9c2d",
       "version_major": 2,
       "version_minor": 0
      },
      "text/plain": [
       "IntSlider(value=3, description='YearsInCurrentRole', layout=Layout(width='50%'), max=18, style=SliderStyle(des…"
      ]
     },
     "metadata": {},
     "output_type": "display_data"
    },
    {
     "data": {
      "application/vnd.jupyter.widget-view+json": {
       "model_id": "4df2083c8d914ac58733c6ecc2d60c01",
       "version_major": 2,
       "version_minor": 0
      },
      "text/plain": [
       "IntSlider(value=1, description='YearsSinceLastPromotion', layout=Layout(width='50%'), max=15, style=SliderStyl…"
      ]
     },
     "metadata": {},
     "output_type": "display_data"
    },
    {
     "data": {
      "application/vnd.jupyter.widget-view+json": {
       "model_id": "0dfb02fab48d432f99baf8752a495d0b",
       "version_major": 2,
       "version_minor": 0
      },
      "text/plain": [
       "IntSlider(value=3, description='YearsWithCurrManager', layout=Layout(width='50%'), max=17, style=SliderStyle(d…"
      ]
     },
     "metadata": {},
     "output_type": "display_data"
    },
    {
     "data": {
      "application/vnd.jupyter.widget-view+json": {
       "model_id": "76b95c4165d64d41a62f55c6ef1bbc2d",
       "version_major": 2,
       "version_minor": 0
      },
      "text/plain": [
       "HBox(children=(FloatProgress(value=0.05659430124845661, bar_style='danger', description='Probability:', layout…"
      ]
     },
     "metadata": {},
     "output_type": "display_data"
    }
   ],
   "source": [
    "# Apply it to the model with prediction probability\n",
    "bar = widgets.FloatProgress(value=0.0, \n",
    "                            min=0.0, \n",
    "                            max=100.0, \n",
    "                            description='Probability:', \n",
    "                            bar_style='danger',\n",
    "                            style={'bar_color': 'red',\n",
    "                                   'description_width': '100px',\n",
    "                                   'font_size': '20px'},\n",
    "                            layout=Layout(width='70%', height='50px', margin='15px 10px 5px 0'))\n",
    "bar_label = widgets.Label(value='0% likely to leave the company', layout=Layout(margin='15px 0 0 0'))\n",
    "\n",
    "all_inputs = []\n",
    "\n",
    "# There is certainly a more object-oriented approach for creating all these inputs, \n",
    "# but I think this approach is best for this specific project. If I were to approach\n",
    "# this again on a larger project, I would calculate/store the default values once \n",
    "# then use a loop with a function call to create these.\n",
    "age_slider = widgets.IntSlider(\n",
    "    description='Age', \n",
    "    value=round(X['Age'].median()), \n",
    "    min=X['Age'].min(), \n",
    "    max=X['Age'].max()\n",
    ")\n",
    "all_inputs.append(age_slider)\n",
    "\n",
    "business_travel_drop = widgets.Dropdown(\n",
    "    description='BusinessTravel',\n",
    "    options=map['BusinessTravel']\n",
    ")\n",
    "all_inputs.append(business_travel_drop)\n",
    "\n",
    "dailyrate_slider = widgets.IntSlider(\n",
    "    description='DailyRate',\n",
    "    value=round(X['DailyRate'].median()),\n",
    "    min=X['DailyRate'].min(),\n",
    "    max=X['DailyRate'].max()\n",
    ")\n",
    "all_inputs.append(dailyrate_slider)\n",
    "\n",
    "dept_drop = widgets.Dropdown(\n",
    "    description='Department',\n",
    "    options=map['Department']\n",
    ")\n",
    "all_inputs.append(dept_drop)\n",
    "\n",
    "dist_slider = widgets.IntSlider(\n",
    "    description='DistanceFromHome',\n",
    "    value=round(X['DistanceFromHome'].median()),\n",
    "    min=X['DistanceFromHome'].min(),\n",
    "    max=X['DistanceFromHome'].max()\n",
    ")\n",
    "all_inputs.append(dist_slider)\n",
    "\n",
    "edu_slider = widgets.IntSlider(\n",
    "    description='Education',\n",
    "    value=round(X['Education'].median()),\n",
    "    min=X['Education'].min(),\n",
    "    max=X['Education'].max()\n",
    ")\n",
    "all_inputs.append(edu_slider)\n",
    "\n",
    "edu_drop = widgets.Dropdown(\n",
    "    description='EducationField',\n",
    "    options=map['EducationField']\n",
    ")\n",
    "all_inputs.append(edu_drop)\n",
    "\n",
    "env_slider = widgets.IntSlider(\n",
    "    description='EnvironmentSatisfaction',\n",
    "    value=round(X['EnvironmentSatisfaction'].median()),\n",
    "    min=X['EnvironmentSatisfaction'].min(),\n",
    "    max=X['EnvironmentSatisfaction'].max()\n",
    ")\n",
    "all_inputs.append(env_slider)\n",
    "\n",
    "gender_drop = widgets.Dropdown(\n",
    "    description='Gender',\n",
    "    options=map['Gender']\n",
    ")\n",
    "all_inputs.append(gender_drop)\n",
    "\n",
    "hourly_rate_slider = widgets.IntSlider(\n",
    "    description='HourlyRate',\n",
    "    value=round(X['HourlyRate'].median()),\n",
    "    min=X['HourlyRate'].min(),\n",
    "    max=X['HourlyRate'].max()\n",
    ")\n",
    "all_inputs.append(hourly_rate_slider)\n",
    "\n",
    "job_involvement_slider = widgets.IntSlider(\n",
    "    description='JobInvolvement',\n",
    "    value=round(X['JobInvolvement'].median()),\n",
    "    min=X['JobInvolvement'].min(),\n",
    "    max=X['JobInvolvement'].max()\n",
    ")\n",
    "all_inputs.append(job_involvement_slider)\n",
    "\n",
    "job_level_slider = widgets.IntSlider(\n",
    "    description='JobLevel',\n",
    "    value=round(X['JobLevel'].median()),\n",
    "    min=X['JobLevel'].min(),\n",
    "    max=X['JobLevel'].max()\n",
    ")\n",
    "all_inputs.append(job_level_slider)\n",
    "\n",
    "job_role_drop = widgets.Dropdown(\n",
    "    description='JobRole',\n",
    "    options=map['JobRole']\n",
    ")\n",
    "all_inputs.append(job_role_drop)\n",
    "\n",
    "job_satisfaction_slider = widgets.IntSlider(\n",
    "    description='JobSatisfaction',\n",
    "    value=round(X['JobSatisfaction'].median()),\n",
    "    min=X['JobSatisfaction'].min(),\n",
    "    max=X['JobSatisfaction'].max()\n",
    ")\n",
    "all_inputs.append(job_satisfaction_slider)\n",
    "\n",
    "marital_status_drop =  widgets.Dropdown(\n",
    "    description='MaritalStatus',\n",
    "    options=map['MaritalStatus']\n",
    ")\n",
    "all_inputs.append(marital_status_drop)\n",
    "\n",
    "monthly_income_slider = widgets.IntSlider(\n",
    "    description='MonthlyIncome',\n",
    "    value=round(X['MonthlyIncome'].median()),\n",
    "    min=X['MonthlyIncome'].min(),\n",
    "    max=X['MonthlyIncome'].max()\n",
    ")\n",
    "all_inputs.append(monthly_income_slider)\n",
    "\n",
    "monthly_rate_slider = widgets.IntSlider(\n",
    "    description='MonthlyRate',\n",
    "    value=round(X['MonthlyRate'].median()),\n",
    "    min=X['MonthlyRate'].min(),\n",
    "    max=X['MonthlyRate'].max()\n",
    ")\n",
    "all_inputs.append(monthly_rate_slider)\n",
    "\n",
    "num_companies_worked_slider = widgets.IntSlider(\n",
    "    description='NumCompaniesWorked',\n",
    "    value=round(X['NumCompaniesWorked'].median()),\n",
    "    min=X['NumCompaniesWorked'].min(),\n",
    "    max=X['NumCompaniesWorked'].max()\n",
    ")\n",
    "all_inputs.append(num_companies_worked_slider)\n",
    "\n",
    "overtime_button = widgets.Checkbox(\n",
    "    description='Overtime',\n",
    "    value=False\n",
    ")\n",
    "all_inputs.append(overtime_button)\n",
    "\n",
    "percent_salary_hike_slider = widgets.IntSlider(\n",
    "    description='PercentSalaryHike',\n",
    "    value=round(X['PercentSalaryHike'].median()),\n",
    "    min=X['PercentSalaryHike'].min(),\n",
    "    max=X['PercentSalaryHike'].max()\n",
    ")\n",
    "all_inputs.append(percent_salary_hike_slider)\n",
    "\n",
    "performance_rating_slider = widgets.IntSlider(\n",
    "    description='PerformanceRating',\n",
    "    value=round(X['PerformanceRating'].median()),\n",
    "    min=X['PerformanceRating'].min(),\n",
    "    max=X['PerformanceRating'].max()\n",
    ")\n",
    "all_inputs.append(performance_rating_slider)\n",
    "\n",
    "relationship_satisfaction_slider = widgets.IntSlider(\n",
    "    description='RelationshipSatisfaction',\n",
    "    value=round(X['RelationshipSatisfaction'].median()),\n",
    "    min=X['RelationshipSatisfaction'].min(),\n",
    "    max=X['RelationshipSatisfaction'].max()\n",
    ")\n",
    "all_inputs.append(relationship_satisfaction_slider)\n",
    "\n",
    "stock_option_level_slider = widgets.IntSlider(\n",
    "    description='StockOptionLevel',\n",
    "    value=round(X['StockOptionLevel'].median()),\n",
    "    min=X['StockOptionLevel'].min(),\n",
    "    max=X['StockOptionLevel'].max()\n",
    ")\n",
    "all_inputs.append(stock_option_level_slider)\n",
    "\n",
    "total_working_years_slider = widgets.IntSlider(\n",
    "    description='TotalWorkingYears',\n",
    "    value=round(X['TotalWorkingYears'].median()),\n",
    "    min=X['TotalWorkingYears'].min(),\n",
    "    max=X['TotalWorkingYears'].max()\n",
    ")\n",
    "all_inputs.append(total_working_years_slider)\n",
    "\n",
    "training_times_last_year_slider = widgets.IntSlider(\n",
    "    description='TrainingTimesLastYear',\n",
    "    value=round(X['TrainingTimesLastYear'].median()),\n",
    "    min=X['TrainingTimesLastYear'].min(),\n",
    "    max=X['TrainingTimesLastYear'].max()\n",
    ")\n",
    "all_inputs.append(training_times_last_year_slider)\n",
    "\n",
    "work_life_balance_slider = widgets.IntSlider(\n",
    "    description='WorkLifeBalance',\n",
    "    value=round(X['WorkLifeBalance'].median()),\n",
    "    min=X['WorkLifeBalance'].min(),\n",
    "    max=X['WorkLifeBalance'].max()\n",
    ")\n",
    "all_inputs.append(work_life_balance_slider)\n",
    "\n",
    "years_at_company_slider = widgets.IntSlider(\n",
    "    description='YearsAtCompany',\n",
    "    value=round(X['YearsAtCompany'].median()),\n",
    "    min=X['YearsAtCompany'].min(),\n",
    "    max=X['YearsAtCompany'].max()\n",
    ")\n",
    "all_inputs.append(years_at_company_slider)\n",
    "\n",
    "years_in_current_role_slider = widgets.IntSlider(\n",
    "    description='YearsInCurrentRole',\n",
    "    value=round(X['YearsInCurrentRole'].median()),\n",
    "    min=X['YearsInCurrentRole'].min(),\n",
    "    max=X['YearsInCurrentRole'].max()\n",
    ")\n",
    "all_inputs.append(years_in_current_role_slider)\n",
    "\n",
    "years_since_last_promotion_slider = widgets.IntSlider(\n",
    "    description='YearsSinceLastPromotion',\n",
    "    value=round(X['YearsSinceLastPromotion'].median()),\n",
    "    min=X['YearsSinceLastPromotion'].min(),\n",
    "    max=X['YearsSinceLastPromotion'].max()\n",
    ")\n",
    "all_inputs.append(years_since_last_promotion_slider)\n",
    "\n",
    "years_with_curr_manager_slider = widgets.IntSlider(\n",
    "    description='YearsWithCurrManager',\n",
    "    value=round(X['YearsWithCurrManager'].median()),\n",
    "    min=X['YearsWithCurrManager'].min(),\n",
    "    max=X['YearsWithCurrManager'].max()\n",
    ")\n",
    "all_inputs.append(years_with_curr_manager_slider)\n",
    "\n",
    "u_input = pd.Series({\n",
    "    'Age': None,\n",
    "    'BusinessTravel': None,\n",
    "    'DailyRate': None,\n",
    "    'Department': None,\n",
    "    'DistanceFromHome': None,\n",
    "    'Education': None,\n",
    "    'EducationField': None,\n",
    "    'EnvironmentSatisfaction': None,\n",
    "    'Gender': None,\n",
    "    'HourlyRate': None,\n",
    "    'JobInvolvement': None,\n",
    "    'JobLevel': None,\n",
    "    'JobRole': None,\n",
    "    'JobSatisfaction': None,\n",
    "    'MaritalStatus': None,\n",
    "    'MonthlyIncome': None,\n",
    "    'MonthlyRate': None,\n",
    "    'NumCompaniesWorked': None,\n",
    "    'OverTime': None,\n",
    "    'PercentSalaryHike': None,\n",
    "    'PerformanceRating': None,\n",
    "    'RelationshipSatisfaction': None,\n",
    "    'StockOptionLevel': None,\n",
    "    'TotalWorkingYears': None,\n",
    "    'TrainingTimesLastYear': None,\n",
    "    'WorkLifeBalance': None,\n",
    "    'YearsAtCompany': None,\n",
    "    'YearsInCurrentRole': None,\n",
    "    'YearsSinceLastPromotion': None,\n",
    "    'YearsWithCurrManager': None\n",
    "})\n",
    "def update_bar():\n",
    "    for i in range(len(u_input)):\n",
    "        u_input.iloc[i] = all_inputs[i].get_interact_value()\n",
    "    input = pd.DataFrame(u_input).transpose()\n",
    "    value = clf.predict_proba(input)[0, 1] * 100\n",
    "    bar.value = value\n",
    "    bar_label.value = f'{value:.2f}% likely to leave the company'\n",
    "\n",
    "# Make interactive and display\n",
    "for elem in all_inputs:\n",
    "    elem.on_trait_change(update_bar)\n",
    "    elem.style = {'description_width': '140px'}\n",
    "    elem.layout = Layout(width='50%')\n",
    "update_bar()\n",
    "display(*all_inputs, widgets.HBox([bar, bar_label]))"
   ]
  },
  {
   "cell_type": "code",
   "execution_count": null,
   "id": "54fdc691-b073-41f6-bd1c-c733d1e8a30c",
   "metadata": {},
   "outputs": [],
   "source": []
  }
 ],
 "metadata": {
  "kernelspec": {
   "display_name": "Python 3 (ipykernel)",
   "language": "python",
   "name": "python3"
  },
  "language_info": {
   "codemirror_mode": {
    "name": "ipython",
    "version": 3
   },
   "file_extension": ".py",
   "mimetype": "text/x-python",
   "name": "python",
   "nbconvert_exporter": "python",
   "pygments_lexer": "ipython3",
   "version": "3.12.4"
  }
 },
 "nbformat": 4,
 "nbformat_minor": 5
}
