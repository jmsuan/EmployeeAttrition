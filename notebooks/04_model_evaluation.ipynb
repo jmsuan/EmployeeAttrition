{
 "cells": [
  {
   "cell_type": "markdown",
   "id": "d5acd41a-032c-4e59-998a-1f5c4201d221",
   "metadata": {},
   "source": [
    "# Model Evaluation\n",
    "Here, I will evaluate the trained model across various metrics.\n",
    "Recall that the goal metrics for this project is:\n",
    "- 80% accuracy on the test set\n",
    "- \\>0.70 AUC_ROC"
   ]
  },
  {
   "cell_type": "markdown",
   "id": "6e39fba5-fbca-4168-a22f-e86f43713559",
   "metadata": {},
   "source": [
    "## Import the data"
   ]
  },
  {
   "cell_type": "code",
   "execution_count": 1,
   "id": "77602b85-089c-4e5a-888c-7bf3a3577453",
   "metadata": {},
   "outputs": [],
   "source": [
    "import numpy as np\n",
    "import pandas as pd"
   ]
  },
  {
   "cell_type": "code",
   "execution_count": 2,
   "id": "2531cc1e-7eb4-4084-ac88-d8f56d660741",
   "metadata": {},
   "outputs": [],
   "source": [
    "# Load the test set\n",
    "X_test = pd.read_csv('../data/X_test.csv')\n",
    "y_test = pd.read_csv('../data/y_test.csv').squeeze()"
   ]
  },
  {
   "cell_type": "markdown",
   "id": "8e774ac0-7e51-4ac2-9d1c-1514262a9f0c",
   "metadata": {},
   "source": [
    "## Import the model"
   ]
  },
  {
   "cell_type": "code",
   "execution_count": 3,
   "id": "068e128c-f5a5-4893-a58b-790fb832f84c",
   "metadata": {},
   "outputs": [],
   "source": [
    "from sklearn.ensemble import StackingClassifier\n",
    "import pickle"
   ]
  },
  {
   "cell_type": "code",
   "execution_count": 4,
   "id": "bf6af958-9081-4e83-a386-47054e096e55",
   "metadata": {},
   "outputs": [],
   "source": [
    "clf = pickle.load(open('../models/stacking_classifier_optimized.pkl', 'rb'))"
   ]
  },
  {
   "cell_type": "code",
   "execution_count": 5,
   "id": "f9545454-550f-48b6-9e57-fb121d8edd6c",
   "metadata": {},
   "outputs": [
    {
     "data": {
      "text/plain": [
       "sklearn.ensemble._stacking.StackingClassifier"
      ]
     },
     "execution_count": 5,
     "metadata": {},
     "output_type": "execute_result"
    }
   ],
   "source": [
    "type(clf)"
   ]
  },
  {
   "cell_type": "markdown",
   "id": "fc276fd6-a76a-44d3-84d7-0edb6c4e59b1",
   "metadata": {},
   "source": [
    "## Evaluate the model"
   ]
  },
  {
   "cell_type": "code",
   "execution_count": 6,
   "id": "d79aa087-18a5-4c56-ac3a-fdce2ba6f355",
   "metadata": {},
   "outputs": [],
   "source": [
    "from sklearn.metrics import accuracy_score, roc_curve, roc_auc_score, confusion_matrix, classification_report"
   ]
  },
  {
   "cell_type": "code",
   "execution_count": 7,
   "id": "893a068b-ebee-4021-bc4c-5b8ca86a91ad",
   "metadata": {},
   "outputs": [],
   "source": [
    "y_preds = clf.predict(X_test)\n",
    "y_probs = clf.predict_proba(X_test)"
   ]
  },
  {
   "cell_type": "code",
   "execution_count": 8,
   "id": "79f53424-b0c1-47e0-b49b-57b7dd0c2b1f",
   "metadata": {},
   "outputs": [
    {
     "data": {
      "text/plain": [
       "0.8478260869565217"
      ]
     },
     "execution_count": 8,
     "metadata": {},
     "output_type": "execute_result"
    }
   ],
   "source": [
    "# Accuracy on the test set\n",
    "accuracy_score(y_test, y_preds)"
   ]
  },
  {
   "cell_type": "code",
   "execution_count": 9,
   "id": "44e6a1cb-37c1-4714-ab2d-750204bb9619",
   "metadata": {},
   "outputs": [
    {
     "data": {
      "image/png": "[encoded data removed]",
      "text/plain": [
       "<Figure size 700x600 with 1 Axes>"
      ]
     },
     "metadata": {},
     "output_type": "display_data"
    }
   ],
   "source": [
    "# Receiver Operating Characteristic (ROC curve) / Area under curve (AUC)\n",
    "false_positive_rate, true_positive_rate, thresholds = roc_curve(y_test, y_probs[:, 1])\n",
    "roc_auc = roc_auc_score(y_test, y_probs[:, 1])\n",
    "\n",
    "# Visualize ROC curve\n",
    "import matplotlib.pyplot as plt\n",
    "plt.style.use('seaborn-v0_8')\n",
    "fig, ax = plt.subplots(figsize=(7, 6))\n",
    "fig.suptitle('Receiver Operating Characteristic')\n",
    "ax.plot(false_positive_rate, true_positive_rate, 'b', label='AUC = %0.2f' % roc_auc)\n",
    "ax.legend(loc='lower right')\n",
    "ax.set(xlabel='False Positive Rate',\n",
    "       ylabel='True Positive Rate')\n",
    "plt.show()"
   ]
  },
  {
   "cell_type": "code",
   "execution_count": 10,
   "id": "301c97a7-6e7a-4c4a-b666-68287be0107d",
   "metadata": {},
   "outputs": [],
   "source": [
    "# Confusion Matrix\n",
    "cm = confusion_matrix(y_test, y_preds)"
   ]
  },
  {
   "cell_type": "code",
   "execution_count": 11,
   "id": "efce1d01-7637-48c4-933d-d2da85bbee61",
   "metadata": {},
   "outputs": [
    {
     "name": "stdout",
     "output_type": "stream",
     "text": [
      "True Positives\t(TP): 30\n",
      "False Positives\t(FP): 32\n",
      "True Negatives\t(TN): 282\n",
      "False Negatives\t(FN): 24\n"
     ]
    }
   ],
   "source": [
    "print('True Positives\\t(TP):', cm[1, 1])  # Correctly identifyied an employee leaving\n",
    "print('False Positives\\t(FP):', cm[0, 1]) # Incorrectly identified an employee leaving\n",
    "print('True Negatives\\t(TN):', cm[0, 0])  # Correctly identified an employee staying\n",
    "print('False Negatives\\t(FN):', cm[1, 0]) # Incorrectly identified an employee staying"
   ]
  },
  {
   "cell_type": "code",
   "execution_count": 12,
   "id": "4e76be53-1b95-4989-83c3-cc97e992d5c5",
   "metadata": {},
   "outputs": [
    {
     "name": "stdout",
     "output_type": "stream",
     "text": [
      "              precision    recall  f1-score   support\n",
      "\n",
      "       False       0.92      0.90      0.91       314\n",
      "        True       0.48      0.56      0.52        54\n",
      "\n",
      "    accuracy                           0.85       368\n",
      "   macro avg       0.70      0.73      0.71       368\n",
      "weighted avg       0.86      0.85      0.85       368\n",
      "\n"
     ]
    }
   ],
   "source": [
    "# Classification report\n",
    "print(classification_report(y_test, y_preds))"
   ]
  },
  {
   "cell_type": "markdown",
   "id": "d17fc82e-3e0c-4b95-8267-a7ac8a7a692b",
   "metadata": {},
   "source": [
    "Precision column:\n",
    "- The true value is the \"ratio of true positive predictions to the total positive predictions.\"\n",
    "  - TP / (TP + FP)\n",
    "  - 30 / (30 + 32)\n",
    "  - = 0.48..\n",
    "- The false value should be the ratio of true negative predictions to the total number of negative predictions.\n",
    "  - TN / (TN + FN)\n",
    "  - 282 / (282 + 24)\n",
    "  - = 0.92..\n",
    "- Macro avg should be the mean between the two precision values.\n",
    "  - (0.92.. + 0.48..) / 2\n",
    "  - = 0.7..\n",
    "- Weighted avg should account for the proportion of positive values to negative values.\n",
    "  - neg = TN + FP = 282 + 32 = 314\n",
    "  - pos = TP + FN =  30 + 24 = 54\n",
    "  - pos_ratio =  54 / (54 + 314) = 0.14673913\n",
    "  - neg_ratio = 314 / (54 + 314) = 0.85326087\n",
    "  - weighted_avg = (0.92.. * 0.85326087) + (0.48.. * 0.14673913) = 0.785 + 0.07.. = 0.855.. = 0.86.."
   ]
  },
  {
   "cell_type": "markdown",
   "id": "b37a12d8-33f1-4ecf-9523-59e7017b1f0a",
   "metadata": {},
   "source": [
    "Recall column:\n",
    "- Recall is the \"ratio of true positive predictions to the actual number of positive instances.\"\n",
    "- True value:\n",
    "  - TP / 54 = 30 / 54 = 0.556..\n",
    "- False value:\n",
    "  - TN / 314 = 282 / 314 = 0.898.."
   ]
  },
  {
   "cell_type": "markdown",
   "id": "b8e1598a-afc4-4c31-9daa-b100a97603be",
   "metadata": {},
   "source": [
    "F1-score column:\n",
    "- The F1-score is the \"harmonic mean\" of precision and recall, providing a balance between the two values."
   ]
  },
  {
   "cell_type": "markdown",
   "id": "8bccc19f-3bc4-4e58-a7b7-043581343c6f",
   "metadata": {},
   "source": [
    "## Conclusion\n",
    "Although the model has metrics exceeding our goals (which were \\>80% accuracy and \\>0.7 AUC_ROC), it also boasts an impressive weighted F1-score of 0.85 considering the size of the dataset. This model can only become better as more internal data within an organization is collected, so this model will provide a reasonable starting point for production use. The data is pretty obviously skewed to nonattrition, which could be a simple reality when it comes to employee attrition, but we cannot simply determine that employees tend to nonattrition based only on this data set. More research and testing will be necessary to determine the real-world accuracy of our model, which may be especially difficult due to our efforts to reduce the occurence of our target class."
   ]
  },
  {
   "cell_type": "code",
   "execution_count": null,
   "id": "2be5050d-a573-42eb-9785-7dc49ddf65de",
   "metadata": {},
   "outputs": [],
   "source": []
  }
 ],
 "metadata": {
  "kernelspec": {
   "display_name": "Python 3 (ipykernel)",
   "language": "python",
   "name": "python3"
  },
  "language_info": {
   "codemirror_mode": {
    "name": "ipython",
    "version": 3
   },
   "file_extension": ".py",
   "mimetype": "text/x-python",
   "name": "python",
   "nbconvert_exporter": "python",
   "pygments_lexer": "ipython3",
   "version": "3.12.4"
  }
 },
 "nbformat": 4,
 "nbformat_minor": 5
}
