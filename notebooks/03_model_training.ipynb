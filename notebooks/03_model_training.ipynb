{
 "cells": [
  {
   "cell_type": "markdown",
   "id": "5b6ea89d-928c-4130-b36c-d9e244a46493",
   "metadata": {},
   "source": [
    "# Model Training\n",
    "I will attempt to train various models with the cleaned data here."
   ]
  },
  {
   "cell_type": "code",
   "execution_count": 48,
   "id": "023abf20-7775-4e72-9bd4-ece63adea15c",
   "metadata": {},
   "outputs": [],
   "source": [
    "# Standard Imports\n",
    "import numpy as np\n",
    "import pandas as pd\n",
    "from sklearn.metrics import roc_curve, roc_auc_score"
   ]
  },
  {
   "cell_type": "code",
   "execution_count": 18,
   "id": "098804ac-a782-40f3-9e16-f1b3875b4082",
   "metadata": {},
   "outputs": [],
   "source": [
    "# Load the data\n",
    "X_train = pd.read_csv('../data/X_train.csv')\n",
    "y_train = pd.read_csv('../data/y_train.csv').squeeze()\n",
    "X_test = pd.read_csv('../data/X_test.csv')\n",
    "y_test = pd.read_csv('../data/y_test.csv').squeeze()"
   ]
  },
  {
   "cell_type": "code",
   "execution_count": 60,
   "id": "b6af5c6a-8684-4fef-9400-b988be3fdc0b",
   "metadata": {},
   "outputs": [],
   "source": [
    "def print_stats(clf):\n",
    "    clf.fit(X_train, y_train)\n",
    "    y_preds = clf.predict(X_test)\n",
    "    y_probs = clf.predict_proba(X_test)\n",
    "    return f'Score: {clf.score(X_test, y_test)}', f'AUC_ROC: {roc_auc_score(y_test, y_preds)}'"
   ]
  },
  {
   "cell_type": "markdown",
   "id": "ae0d7063-b77b-4ac4-b7ac-ebe58bdc3c5a",
   "metadata": {},
   "source": [
    "## Originally Planned Models"
   ]
  },
  {
   "cell_type": "markdown",
   "id": "492446be-b4c0-4ff1-b6f0-4308773c7fd9",
   "metadata": {},
   "source": [
    "### Logistic Regression"
   ]
  },
  {
   "cell_type": "code",
   "execution_count": 76,
   "id": "a4319872-c4e1-4f99-b37e-5886f7d914ee",
   "metadata": {},
   "outputs": [],
   "source": [
    "from sklearn.linear_model import LogisticRegression"
   ]
  },
  {
   "cell_type": "code",
   "execution_count": 77,
   "id": "84a8af41-d689-40bf-84fe-f17bb05429fc",
   "metadata": {},
   "outputs": [],
   "source": [
    "# clf = LogisticRegression(max_iter=100000, solver='lbfgs') # Raises ConvergenceWarning\n",
    "# print_stats(clf)"
   ]
  },
  {
   "cell_type": "code",
   "execution_count": 78,
   "id": "7a07d85e-040d-4c3a-a011-903805a24e5b",
   "metadata": {},
   "outputs": [
    {
     "data": {
      "text/plain": [
       "('Score: 0.8695652173913043', 'AUC_ROC: 0.5708893606982779')"
      ]
     },
     "execution_count": 78,
     "metadata": {},
     "output_type": "execute_result"
    }
   ],
   "source": [
    "clf = LogisticRegression(max_iter=100000, solver='liblinear')\n",
    "print_stats(clf)"
   ]
  },
  {
   "cell_type": "code",
   "execution_count": 79,
   "id": "0eb09a99-b37f-4f55-ac0a-801693d58f27",
   "metadata": {},
   "outputs": [
    {
     "data": {
      "text/plain": [
       "('Score: 0.8532608695652174', 'AUC_ROC: 0.5')"
      ]
     },
     "execution_count": 79,
     "metadata": {},
     "output_type": "execute_result"
    }
   ],
   "source": [
    "clf = LogisticRegression(max_iter=100000, solver='saga')\n",
    "print_stats(clf)"
   ]
  },
  {
   "cell_type": "markdown",
   "id": "3fee8f43-9d83-438e-9b96-22cf1903280e",
   "metadata": {},
   "source": [
    "### Gradient Boosting"
   ]
  },
  {
   "cell_type": "code",
   "execution_count": 80,
   "id": "a0d39156-f215-486f-8024-2e6c022a339e",
   "metadata": {},
   "outputs": [],
   "source": [
    "from sklearn.ensemble import GradientBoostingClassifier"
   ]
  },
  {
   "cell_type": "code",
   "execution_count": 81,
   "id": "c5217015-4321-47f1-906f-3207c92e0e53",
   "metadata": {},
   "outputs": [
    {
     "data": {
      "text/plain": [
       "('Score: 0.8777173913043478', 'AUC_ROC: 0.6446685539042227')"
      ]
     },
     "execution_count": 81,
     "metadata": {},
     "output_type": "execute_result"
    }
   ],
   "source": [
    "clf = GradientBoostingClassifier()\n",
    "print_stats(clf)"
   ]
  },
  {
   "cell_type": "markdown",
   "id": "269477f9-6843-4a78-897f-528dec575ec8",
   "metadata": {},
   "source": [
    "### Random Forests"
   ]
  },
  {
   "cell_type": "code",
   "execution_count": 82,
   "id": "767f6943-366a-472f-af9a-8df65261c526",
   "metadata": {},
   "outputs": [
    {
     "data": {
      "text/plain": [
       "('Score: 0.8777173913043478', 'AUC_ROC: 0.6216678461901393')"
      ]
     },
     "execution_count": 82,
     "metadata": {},
     "output_type": "execute_result"
    }
   ],
   "source": [
    "from sklearn.ensemble import RandomForestClassifier\n",
    "clf = RandomForestClassifier()\n",
    "print_stats(clf)"
   ]
  },
  {
   "cell_type": "markdown",
   "id": "16e62104-db4b-4712-9e82-021fc9180298",
   "metadata": {},
   "source": [
    "### Neural Network"
   ]
  },
  {
   "cell_type": "code",
   "execution_count": 83,
   "id": "0014dcdd-6602-411e-beb1-dae8f77b2db8",
   "metadata": {},
   "outputs": [],
   "source": [
    "from sklearn.neural_network import MLPClassifier"
   ]
  },
  {
   "cell_type": "code",
   "execution_count": 84,
   "id": "2ed42613-c50e-4279-8a1d-fb782ffbe2ac",
   "metadata": {},
   "outputs": [
    {
     "data": {
      "text/plain": [
       "('Score: 0.8478260869565217', 'AUC_ROC: 0.5198159943382873')"
      ]
     },
     "execution_count": 84,
     "metadata": {},
     "output_type": "execute_result"
    }
   ],
   "source": [
    "clf = MLPClassifier()\n",
    "print_stats(clf)"
   ]
  },
  {
   "cell_type": "markdown",
   "id": "a262014f-53ae-4c57-bf59-786acb0949dd",
   "metadata": {},
   "source": [
    "## Additional Exploratory Models"
   ]
  },
  {
   "cell_type": "markdown",
   "id": "f0402992-40ac-4cba-968b-a045714eb08c",
   "metadata": {},
   "source": [
    "### Histogram-based Gradient Boosting Classification Tree"
   ]
  },
  {
   "cell_type": "code",
   "execution_count": 88,
   "id": "d47b1de7-693d-4648-9e44-73ce114efc69",
   "metadata": {},
   "outputs": [
    {
     "data": {
      "text/plain": [
       "('Score: 0.8722826086956522', 'AUC_ROC: 0.6261500353857041')"
      ]
     },
     "execution_count": 88,
     "metadata": {},
     "output_type": "execute_result"
    }
   ],
   "source": [
    "from  sklearn.ensemble import HistGradientBoostingClassifier\n",
    "clf = HistGradientBoostingClassifier()\n",
    "print_stats(clf)"
   ]
  },
  {
   "cell_type": "markdown",
   "id": "b0bcb91e-b69f-4b78-9d38-7e3bf37b407e",
   "metadata": {},
   "source": [
    "### Naive Bayes"
   ]
  },
  {
   "cell_type": "markdown",
   "id": "5143191d-4d91-463d-b38c-179bcaecd539",
   "metadata": {},
   "source": [
    "#### GaussianNB"
   ]
  },
  {
   "cell_type": "code",
   "execution_count": 94,
   "id": "b0cff742-d46b-491d-8e0e-3cf89f332012",
   "metadata": {},
   "outputs": [
    {
     "data": {
      "text/plain": [
       "('Score: 0.7717391304347826', 'AUC_ROC: 0.7052370842179759')"
      ]
     },
     "execution_count": 94,
     "metadata": {},
     "output_type": "execute_result"
    }
   ],
   "source": [
    "from sklearn.naive_bayes import GaussianNB\n",
    "clf = GaussianNB()\n",
    "print_stats(clf)"
   ]
  },
  {
   "cell_type": "markdown",
   "id": "38bdabe3-d93c-4bc5-812b-3acb26d4582e",
   "metadata": {},
   "source": [
    "#### MultinomialNB"
   ]
  },
  {
   "cell_type": "code",
   "execution_count": 95,
   "id": "c2aa8c0e-62e4-4f4f-a52f-5f91127f5ef3",
   "metadata": {},
   "outputs": [
    {
     "data": {
      "text/plain": [
       "('Score: 0.5244565217391305', 'AUC_ROC: 0.5296650153338052')"
      ]
     },
     "execution_count": 95,
     "metadata": {},
     "output_type": "execute_result"
    }
   ],
   "source": [
    "from sklearn.naive_bayes import MultinomialNB\n",
    "clf = MultinomialNB()\n",
    "print_stats(clf)"
   ]
  },
  {
   "cell_type": "markdown",
   "id": "180e6c3a-8cd8-4e4d-b02c-4f8ec859747f",
   "metadata": {},
   "source": [
    "#### BernoulliNB"
   ]
  },
  {
   "cell_type": "code",
   "execution_count": 98,
   "id": "6cfc0afc-3b5a-43e7-9d53-8e0eae103bb4",
   "metadata": {},
   "outputs": [
    {
     "data": {
      "text/plain": [
       "('Score: 0.875', 'AUC_ROC: 0.6430761972163246')"
      ]
     },
     "execution_count": 98,
     "metadata": {},
     "output_type": "execute_result"
    }
   ],
   "source": [
    "from sklearn.naive_bayes import BernoulliNB\n",
    "clf = BernoulliNB()\n",
    "print_stats(clf)"
   ]
  },
  {
   "cell_type": "markdown",
   "id": "5534c838-233e-417c-87e5-dbe2acd366de",
   "metadata": {},
   "source": [
    "### AdaBoostClassifier"
   ]
  },
  {
   "cell_type": "code",
   "execution_count": 112,
   "id": "19fa68b7-c85a-49b4-b292-c38eab26ae7f",
   "metadata": {},
   "outputs": [
    {
     "data": {
      "text/plain": [
       "('Score: 0.8722826086956522', 'AUC_ROC: 0.6184831328143431')"
      ]
     },
     "execution_count": 112,
     "metadata": {},
     "output_type": "execute_result"
    }
   ],
   "source": [
    "from sklearn.ensemble import AdaBoostClassifier\n",
    "clf = AdaBoostClassifier(algorithm='SAMME')\n",
    "print_stats(clf)"
   ]
  },
  {
   "cell_type": "markdown",
   "id": "541d6368-53cb-4c6b-89c4-d4bc5a43107d",
   "metadata": {},
   "source": [
    "### BaggingClassifier"
   ]
  },
  {
   "cell_type": "code",
   "execution_count": 106,
   "id": "f82bc62a-8533-4c9b-9bfe-81cb5a02f77f",
   "metadata": {},
   "outputs": [
    {
     "data": {
      "text/plain": [
       "('Score: 0.845108695652174', 'AUC_ROC: 0.5948926633640009')"
      ]
     },
     "execution_count": 106,
     "metadata": {},
     "output_type": "execute_result"
    }
   ],
   "source": [
    "from sklearn.ensemble import BaggingClassifier\n",
    "clf = BaggingClassifier()\n",
    "print_stats(clf)"
   ]
  },
  {
   "cell_type": "markdown",
   "id": "acb86281-0730-4618-bf4e-2002e74edae6",
   "metadata": {},
   "source": [
    "### StackingClassifier\n",
    "I will try using multiple of the higher-scoring estimator algorithms here."
   ]
  },
  {
   "cell_type": "code",
   "execution_count": 111,
   "id": "4a10bf32-e88c-4a79-881c-334b767140f1",
   "metadata": {},
   "outputs": [
    {
     "data": {
      "text/plain": [
       "('Score: 0.8559782608695652', 'AUC_ROC: 0.7085987261146498')"
      ]
     },
     "execution_count": 111,
     "metadata": {},
     "output_type": "execute_result"
    }
   ],
   "source": [
    "from sklearn.ensemble import StackingClassifier\n",
    "estimators = [\n",
    "    ('rf', RandomForestClassifier()),\n",
    "    ('gnb', GaussianNB()),\n",
    "    ('hgb', HistGradientBoostingClassifier()),\n",
    "    ('ab', AdaBoostClassifier(algorithm='SAMME'))\n",
    "]\n",
    "clf = StackingClassifier(\n",
    "    estimators=estimators, final_estimator=GaussianNB()\n",
    ")\n",
    "print_stats(clf)"
   ]
  },
  {
   "cell_type": "markdown",
   "id": "bbb45491-324b-4a50-b46b-e07bb29b7199",
   "metadata": {},
   "source": [
    "Wow! It looks like we achieved both of our goal metrics without any hyperparameter tuning! Let's see if we can improve this score using the same StackingClassifier method."
   ]
  },
  {
   "cell_type": "markdown",
   "id": "d7c1103c-af4c-4ac1-9111-b10c0c5031c6",
   "metadata": {},
   "source": [
    "## Tuning Hyperparameters"
   ]
  },
  {
   "cell_type": "code",
   "execution_count": 114,
   "id": "74e3f785-44cf-4a86-992a-395a72d9f704",
   "metadata": {},
   "outputs": [],
   "source": [
    "from sklearn.model_selection import GridSearchCV"
   ]
  },
  {
   "cell_type": "markdown",
   "id": "15cfcdb7-dd60-49df-9058-79a8d76ff2fe",
   "metadata": {},
   "source": [
    "### Random Forest Optimization"
   ]
  },
  {
   "cell_type": "code",
   "execution_count": 218,
   "id": "b7916a5e-c0be-4549-9a0f-a35ab0321f18",
   "metadata": {},
   "outputs": [
    {
     "name": "stdout",
     "output_type": "stream",
     "text": [
      "Fitting 50 folds for each of 150 candidates, totalling 7500 fits\n",
      "{'min_samples_leaf': 4, 'min_samples_split': 2, 'n_estimators': 110}\n"
     ]
    },
    {
     "data": {
      "text/plain": [
       "('Score: 0.7848549186128804', 'AUC_ROC: 0.5938900684123615')"
      ]
     },
     "execution_count": 218,
     "metadata": {},
     "output_type": "execute_result"
    }
   ],
   "source": [
    "# Define a grid of hyperparameters\n",
    "rf_grid = {'n_estimators': list(range(10, 200, 20)),\n",
    "           # 'max_depth': [None] + list(range(1, 10, 3)), # Default is best\n",
    "           # 'max_features': (['sqrt'] + list(range(1, 20, 4))), # Default is best\n",
    "           'min_samples_split': list(range(2, 20, 4)),\n",
    "           'min_samples_leaf': list(range(1, 10, 3))}\n",
    "rf = RandomForestClassifier()\n",
    "\n",
    "# Find the best parameters\n",
    "gs_clf = GridSearchCV(estimator=rf,\n",
    "                      param_grid=rf_grid,\n",
    "                      n_jobs=-1,\n",
    "                      cv=50, # Higher value due to randomized nature of this algorithm\n",
    "                      verbose=3,\n",
    "                      scoring='roc_auc',\n",
    "                      return_train_score=True)\n",
    "gs_clf.fit(X_train, y_train)\n",
    "print(gs_clf.best_params_)\n",
    "y_preds = gs_clf.predict(X_test)\n",
    "y_probs = gs_clf.predict_proba(X_test)\n",
    "\n",
    "# Set the estimator to the best parameters\n",
    "rf = RandomForestClassifier(**gs_clf.best_params_)\n",
    "\n",
    "# Show one result\n",
    "print_stats(rf)"
   ]
  },
  {
   "cell_type": "markdown",
   "id": "77ff2558-38df-4aab-ab2d-4ef2070e5041",
   "metadata": {},
   "source": [
    "### Gaussian Naive-Bayes Optimization"
   ]
  },
  {
   "cell_type": "code",
   "execution_count": 176,
   "id": "c5ab1dfe-58b8-4366-9591-6614aba6d92d",
   "metadata": {},
   "outputs": [
    {
     "data": {
      "text/plain": [
       "{'priors': None, 'var_smoothing': 1e-09}"
      ]
     },
     "execution_count": 176,
     "metadata": {},
     "output_type": "execute_result"
    }
   ],
   "source": [
    "gnb = GaussianNB()\n",
    "gnb.get_params()"
   ]
  },
  {
   "cell_type": "code",
   "execution_count": 248,
   "id": "b485561d-56b0-471c-8005-854a238059d1",
   "metadata": {},
   "outputs": [
    {
     "name": "stdout",
     "output_type": "stream",
     "text": [
      "Fitting 5 folds for each of 15 candidates, totalling 75 fits\n",
      "{'var_smoothing': 1e-25}\n"
     ]
    },
    {
     "data": {
      "text/plain": [
       "('Score: 0.7771739130434783', 'AUC_ROC: 0.7160887001651334')"
      ]
     },
     "execution_count": 248,
     "metadata": {},
     "output_type": "execute_result"
    }
   ],
   "source": [
    "# Define a grid of hyperparameters\n",
    "gnb_grid = {'var_smoothing': np.linspace(1e-09, 1e-25, 15)}\n",
    "gnb = GaussianNB()\n",
    "\n",
    "# Find the best parameters\n",
    "gs_clf = GridSearchCV(estimator=gnb,\n",
    "                      param_grid=gnb_grid,\n",
    "                      n_jobs=-1,\n",
    "                      cv=5,\n",
    "                      verbose=3,\n",
    "                      scoring='roc_auc',\n",
    "                      return_train_score=True)\n",
    "gs_clf.fit(X_train, y_train)\n",
    "print(gs_clf.best_params_)\n",
    "\n",
    "# Set the estimator to the best parameters\n",
    "gnb = GaussianNB(**gs_clf.best_params_)\n",
    "\n",
    "# Show one result\n",
    "print_stats(gnb)"
   ]
  },
  {
   "cell_type": "markdown",
   "id": "f8fcdae8-a1c7-419e-af86-d3bafcf199c9",
   "metadata": {},
   "source": [
    "### HistGradientBoostingClassifier Optimization"
   ]
  },
  {
   "cell_type": "code",
   "execution_count": 245,
   "id": "98580a1d-b54d-493c-98e8-2c9a8d363ec4",
   "metadata": {},
   "outputs": [
    {
     "data": {
      "text/plain": [
       "{'categorical_features': 'warn',\n",
       " 'class_weight': None,\n",
       " 'early_stopping': 'auto',\n",
       " 'interaction_cst': None,\n",
       " 'l2_regularization': 0.0,\n",
       " 'learning_rate': 0.1,\n",
       " 'loss': 'log_loss',\n",
       " 'max_bins': 255,\n",
       " 'max_depth': None,\n",
       " 'max_features': 1.0,\n",
       " 'max_iter': 100,\n",
       " 'max_leaf_nodes': 31,\n",
       " 'min_samples_leaf': 20,\n",
       " 'monotonic_cst': None,\n",
       " 'n_iter_no_change': 10,\n",
       " 'random_state': None,\n",
       " 'scoring': 'loss',\n",
       " 'tol': 1e-07,\n",
       " 'validation_fraction': 0.1,\n",
       " 'verbose': 0,\n",
       " 'warm_start': False}"
      ]
     },
     "execution_count": 245,
     "metadata": {},
     "output_type": "execute_result"
    }
   ],
   "source": [
    "hgb = HistGradientBoostingClassifier()\n",
    "hgb.get_params()"
   ]
  },
  {
   "cell_type": "code",
   "execution_count": 252,
   "id": "c9dcc8c0-4cc2-4e1c-a1cb-384e61503881",
   "metadata": {},
   "outputs": [
    {
     "name": "stdout",
     "output_type": "stream",
     "text": [
      "Fitting 3 folds for each of 2016 candidates, totalling 6048 fits\n",
      "{'l2_regularization': 0.0, 'learning_rate': 0.7, 'max_features': 0.5, 'max_iter': 100, 'max_leaf_nodes': 2}\n"
     ]
    },
    {
     "data": {
      "text/plain": [
       "('Score: 0.8885869565217391', 'AUC_ROC: 0.6817055909412597')"
      ]
     },
     "execution_count": 252,
     "metadata": {},
     "output_type": "execute_result"
    }
   ],
   "source": [
    "# Define a grid of hyperparameters\n",
    "hgb_grid = {\n",
    "    'learning_rate': np.linspace(0.1, 1, 4),\n",
    "    'max_iter': list(range(40, 161, 20)),\n",
    "    'max_leaf_nodes': [None] + list(range(2, 50, 10)),\n",
    "    'max_features': np.linspace(0.5, 1, 3),\n",
    "    'l2_regularization': np.linspace(0, 20, 4)\n",
    "}\n",
    "hgb = HistGradientBoostingClassifier()\n",
    "\n",
    "# Find the best parameters\n",
    "gs_clf = GridSearchCV(estimator=hgb,\n",
    "                      param_grid=hgb_grid,\n",
    "                      n_jobs=-1,\n",
    "                      cv=3,\n",
    "                      verbose=3,\n",
    "                      scoring='roc_auc',\n",
    "                      return_train_score=True)\n",
    "gs_clf.fit(X_train, y_train)\n",
    "print(gs_clf.best_params_)\n",
    "\n",
    "# Set the estimator to the best parameters\n",
    "hgb = HistGradientBoostingClassifier(**gs_clf.best_params_)\n",
    "\n",
    "# Show one result\n",
    "print_stats(hgb)"
   ]
  },
  {
   "cell_type": "markdown",
   "id": "ae6f1d0a-371e-4c36-8dcb-b1ff5f7513e9",
   "metadata": {},
   "source": [
    "### AdaBoostClassifier Optimization"
   ]
  },
  {
   "cell_type": "code",
   "execution_count": 253,
   "id": "9750b63d-1a44-431d-a28e-ca7e616d3b38",
   "metadata": {},
   "outputs": [
    {
     "data": {
      "text/plain": [
       "{'algorithm': 'SAMME',\n",
       " 'estimator': None,\n",
       " 'learning_rate': 1.0,\n",
       " 'n_estimators': 50,\n",
       " 'random_state': None}"
      ]
     },
     "execution_count": 253,
     "metadata": {},
     "output_type": "execute_result"
    }
   ],
   "source": [
    "ab = AdaBoostClassifier(algorithm='SAMME')\n",
    "ab.get_params()"
   ]
  },
  {
   "cell_type": "code",
   "execution_count": 254,
   "id": "26e9bc0c-303e-4f69-bd8b-50e68a8f8961",
   "metadata": {},
   "outputs": [
    {
     "name": "stdout",
     "output_type": "stream",
     "text": [
      "Fitting 30 folds for each of 125 candidates, totalling 3750 fits\n",
      "{'learning_rate': 1.0, 'n_estimators': 110}\n"
     ]
    },
    {
     "data": {
      "text/plain": [
       "('Score: 0.8804347826086957', 'AUC_ROC: 0.6539278131634819')"
      ]
     },
     "execution_count": 254,
     "metadata": {},
     "output_type": "execute_result"
    }
   ],
   "source": [
    "# Define a grid of hyperparameters\n",
    "ab_grid = {\n",
    "    'learning_rate': np.linspace(0.1, 1.0, 5),\n",
    "    'n_estimators': list(range(40, 161, 5))\n",
    "}\n",
    "ab = AdaBoostClassifier(algorithm='SAMME')\n",
    "\n",
    "# Find the best parameters\n",
    "gs_clf = GridSearchCV(estimator=ab,\n",
    "                      param_grid=ab_grid,\n",
    "                      n_jobs=-1,\n",
    "                      cv=30, # Due to randomization\n",
    "                      verbose=3,\n",
    "                      scoring='roc_auc',\n",
    "                      return_train_score=True)\n",
    "gs_clf.fit(X_train, y_train)\n",
    "print(gs_clf.best_params_)\n",
    "\n",
    "# Set the estimator to the best parameters\n",
    "ab = AdaBoostClassifier(algorithm='SAMME', **gs_clf.best_params_)\n",
    "\n",
    "# Show one result\n",
    "print_stats(ab)"
   ]
  },
  {
   "cell_type": "markdown",
   "id": "774e57bf-6727-4f99-b356-60aab69d0088",
   "metadata": {},
   "source": [
    "### Putting it all together"
   ]
  },
  {
   "cell_type": "code",
   "execution_count": 262,
   "id": "4459807c-59b6-45fd-aacb-16d5617ad6b6",
   "metadata": {},
   "outputs": [
    {
     "data": {
      "text/plain": [
       "('Score: 0.8396739130434783', 'AUC_ROC: 0.7143783911299836')"
      ]
     },
     "execution_count": 262,
     "metadata": {},
     "output_type": "execute_result"
    }
   ],
   "source": [
    "estimators = [\n",
    "    ('rf', rf),\n",
    "    ('gnb', gnb),\n",
    "    ('hgb', hgb),\n",
    "    ('ab', ab)\n",
    "]\n",
    "clf = StackingClassifier(estimators=estimators, \n",
    "                         final_estimator=GaussianNB())\n",
    "print_stats(clf)"
   ]
  },
  {
   "cell_type": "code",
   "execution_count": 263,
   "id": "c2684288-4d88-4b05-8942-3d39678973f1",
   "metadata": {},
   "outputs": [
    {
     "data": {
      "text/plain": [
       "('Score: 0.8505434782608695', 'AUC_ROC: 0.728414720452937')"
      ]
     },
     "execution_count": 263,
     "metadata": {},
     "output_type": "execute_result"
    }
   ],
   "source": [
    "print_stats(clf)"
   ]
  },
  {
   "cell_type": "code",
   "execution_count": 264,
   "id": "f39da8c4-cd66-4128-9f8b-c435b671962a",
   "metadata": {},
   "outputs": [
    {
     "data": {
      "text/plain": [
       "('Score: 0.8369565217391305', 'AUC_ROC: 0.7204529370134466')"
      ]
     },
     "execution_count": 264,
     "metadata": {},
     "output_type": "execute_result"
    }
   ],
   "source": [
    "print_stats(clf)"
   ]
  },
  {
   "cell_type": "code",
   "execution_count": 265,
   "id": "bd7db55b-3e55-40a0-9bb0-d24d6f15e98f",
   "metadata": {},
   "outputs": [
    {
     "data": {
      "text/plain": [
       "('Score: 0.842391304347826', 'AUC_ROC: 0.7159707478178817')"
      ]
     },
     "execution_count": 265,
     "metadata": {},
     "output_type": "execute_result"
    }
   ],
   "source": [
    "print_stats(clf)"
   ]
  },
  {
   "cell_type": "code",
   "execution_count": 266,
   "id": "53c54d6a-b615-40f0-ad38-e6eb66c3b541",
   "metadata": {},
   "outputs": [
    {
     "data": {
      "text/plain": [
       "('Score: 0.8478260869565217', 'AUC_ROC: 0.726822363765039')"
      ]
     },
     "execution_count": 266,
     "metadata": {},
     "output_type": "execute_result"
    }
   ],
   "source": [
    "print_stats(clf)"
   ]
  },
  {
   "cell_type": "markdown",
   "id": "05d640c5-b37c-476f-b378-d044b024ebb0",
   "metadata": {},
   "source": [
    "The model is consistently scoring within our goal. I count this as a success."
   ]
  },
  {
   "cell_type": "markdown",
   "id": "4faa4ea6-2b2b-4792-ae33-6ff6fbe14c7a",
   "metadata": {},
   "source": [
    "## Saving the model"
   ]
  },
  {
   "cell_type": "code",
   "execution_count": 267,
   "id": "71e21ed3-d4d4-4e63-8171-fcaced0018c1",
   "metadata": {},
   "outputs": [],
   "source": [
    "import pickle\n",
    "\n",
    "pickle.dump(clf, open('../models/stacking_classifier_optimized.pkl', 'wb'))"
   ]
  },
  {
   "cell_type": "code",
   "execution_count": 268,
   "id": "b5ec4a6e-f35f-4aa4-9fc5-bf3ea73a6e3a",
   "metadata": {},
   "outputs": [],
   "source": [
    "test_imported_clf = pickle.load(open('../models/stacking_classifier_optimized.pkl', 'rb'))"
   ]
  },
  {
   "cell_type": "code",
   "execution_count": 269,
   "id": "b7633ca8-8c14-4352-9b92-962e9b9d9ca9",
   "metadata": {},
   "outputs": [
    {
     "data": {
      "text/plain": [
       "sklearn.ensemble._stacking.StackingClassifier"
      ]
     },
     "execution_count": 269,
     "metadata": {},
     "output_type": "execute_result"
    }
   ],
   "source": [
    "type(test_imported_clf)"
   ]
  },
  {
   "cell_type": "code",
   "execution_count": 270,
   "id": "ca316c84-d059-4831-bfe1-4244c48d29de",
   "metadata": {},
   "outputs": [
    {
     "data": {
      "text/plain": [
       "('Score: 0.8478260869565217', 'AUC_ROC: 0.726822363765039')"
      ]
     },
     "execution_count": 270,
     "metadata": {},
     "output_type": "execute_result"
    }
   ],
   "source": [
    "print_stats(test_imported_clf)"
   ]
  }
 ],
 "metadata": {
  "kernelspec": {
   "display_name": "Python 3 (ipykernel)",
   "language": "python",
   "name": "python3"
  },
  "language_info": {
   "codemirror_mode": {
    "name": "ipython",
    "version": 3
   },
   "file_extension": ".py",
   "mimetype": "text/x-python",
   "name": "python",
   "nbconvert_exporter": "python",
   "pygments_lexer": "ipython3",
   "version": "3.12.4"
  }
 },
 "nbformat": 4,
 "nbformat_minor": 5
}
